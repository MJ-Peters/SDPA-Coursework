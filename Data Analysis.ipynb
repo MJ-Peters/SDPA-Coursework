{
 "cells": [
  {
   "cell_type": "markdown",
   "source": [
    "Step 0: Importing Relevant Packages (0%)"
   ],
   "metadata": {
    "collapsed": false
   }
  },
  {
   "cell_type": "code",
   "execution_count": 1,
   "metadata": {
    "collapsed": false,
    "jupyter": {
     "outputs_hidden": false
    }
   },
   "outputs": [],
   "source": [
    "# Web Scraping Libraries\n",
    "from bs4 import BeautifulSoup  # for scraping\n",
    "import requests  # for sending HTTP requests\n",
    "# Data Processing Libraries\n",
    "import csv\n",
    "import pandas as pd\n",
    "import numpy as np\n",
    "import matplotlib.pyplot as plt\n",
    "import seaborn as sns"
   ]
  },
  {
   "cell_type": "markdown",
   "metadata": {},
   "source": [
    "Step 1: Crawl a Real World Data Set (2%)"
   ]
  },
  {
   "cell_type": "code",
   "execution_count": 3,
   "outputs": [],
   "source": [
    "url = \"https://www.worldometers.info/coronavirus/#main_table\"  # Web address of data\n",
    "response = requests.get(url)  # Performing a get request for the data at the url location\n",
    "soup_object = BeautifulSoup(response.content)  # Parsing the request response to create a soup_object that can be searched for a table\n",
    "covid_table = soup_object.find(\"table\")  # Searching the soup_object for a table\n",
    "\n",
    "with open(\"Live_Covid_Data.csv\", \"w\", newline=\"\") as csv_file:  # Opening a CSV file to be written into\n",
    "    writer = csv.writer(csv_file)  # Defining the writer as a csv writer that writes to the opened file\n",
    "\n",
    "    for row in covid_table.find_all(\"tr\"):  # Iterate through the rows of the table, \"tr\" points to a row in the table\n",
    "        cells = row.find_all(\"td\")  # Get the cells in the row, \"td\" points to a cell in the row\n",
    "\n",
    "        if cells:  # If there are cells...\n",
    "            values = [cell.text for cell in cells]  # Values is a list of values for each cell in the row of cells\n",
    "            writer.writerow(values)  # Write the values to the CSV\n"
   ],
   "metadata": {
    "collapsed": false
   }
  },
  {
   "cell_type": "markdown",
   "source": [
    "Step 2: Data Preparation and Cleaning (5%)"
   ],
   "metadata": {
    "collapsed": false
   }
  },
  {
   "cell_type": "code",
   "execution_count": 104,
   "metadata": {},
   "outputs": [
    {
     "data": {
      "text/plain": "              Population  Total Cases New Cases Total Deaths  New Deaths  \\\nCountry                                                                    \nNorth America        NaN  121,262,081    +5,968    1,578,160        28.0   \nAsia                 NaN  206,595,856  +323,654    1,511,157       635.0   \nEurope               NaN  242,719,800   +15,247    1,980,119       110.0   \nSouth America        NaN   66,758,003    +3,145    1,341,406         1.0   \nOceania              NaN   13,582,848    +2,758       23,298        24.0   \n...                  ...          ...       ...          ...         ...   \nTotal:               NaN   66,758,003    +3,145    1,341,406         1.0   \nTotal:               NaN   13,582,848    +2,758       23,298        24.0   \nTotal:               NaN   12,739,722       NaN      258,339         NaN   \nTotal:               NaN          721       NaN           15         NaN   \nTotal:               NaN  663,659,031  +350,772    6,692,494       798.0   \n\n              Total Recovered New Recovered Active Cases Critical Cases  \\\nCountry                                                                   \nNorth America     116,064,929        +5,895    3,618,992          9,463   \nAsia              193,360,313      +100,774   11,724,386         11,331   \nEurope            236,784,979       +66,776    3,954,702          7,569   \nSouth America      64,253,133       +23,085    1,163,464         10,341   \nOceania            13,232,703           +20      326,847            161   \n...                       ...           ...          ...            ...   \nTotal:             64,253,133       +23,085    1,163,464         10,341   \nTotal:             13,232,703           +20      326,847            161   \nTotal:             12,037,414           NaN      443,969            843   \nTotal:                    706           NaN            0              0   \nTotal:            635,734,177      +196,550   21,232,360         39,708   \n\n              Total Cases / 1M People Total Deaths / 1M People Total Tests  \\\nCountry                                                                      \nNorth America                     NaN                      NaN         NaN   \nAsia                              NaN                      NaN         NaN   \nEurope                            NaN                      NaN         NaN   \nSouth America                     NaN                      NaN         NaN   \nOceania                           NaN                      NaN         NaN   \n...                               ...                      ...         ...   \nTotal:                            NaN                      NaN         NaN   \nTotal:                            NaN                      NaN         NaN   \nTotal:                            NaN                      NaN         NaN   \nTotal:                            NaN                      NaN         NaN   \nTotal:                       85,141.3                    858.6         NaN   \n\n              Total Tests / 1M People          Continent One Case / n People  \\\nCountry                                                                        \nNorth America                     NaN      North America                  \\n   \nAsia                              NaN               Asia                  \\n   \nEurope                            NaN             Europe                  \\n   \nSouth America                     NaN      South America                  \\n   \nOceania                           NaN  Australia/Oceania                  \\n   \n...                               ...                ...                 ...   \nTotal:                            NaN      South America                       \nTotal:                            NaN  Australia/Oceania                       \nTotal:                            NaN             Africa                       \nTotal:                            NaN                NaN                       \nTotal:                            NaN                All                  \\n   \n\n              One Death / n People  One Test / n People New Cases / 1M People  \\\nCountry                                                                         \nNorth America                  NaN                  NaN                   NaN   \nAsia                           NaN                  NaN                   NaN   \nEurope                         NaN                  NaN                   NaN   \nSouth America                  NaN                  NaN                   NaN   \nOceania                        NaN                  NaN                   NaN   \n...                            ...                  ...                   ...   \nTotal:                         NaN                  NaN                   NaN   \nTotal:                         NaN                  NaN                   NaN   \nTotal:                         NaN                  NaN                   NaN   \nTotal:                         NaN                  NaN                   NaN   \nTotal:                         NaN                  NaN                   NaN   \n\n               New Deaths / 1M People Active Cases / 1M People  \nCountry                                                         \nNorth America                     NaN                      NaN  \nAsia                              NaN                      NaN  \nEurope                            NaN                      NaN  \nSouth America                     NaN                      NaN  \nOceania                           NaN                      NaN  \n...                               ...                      ...  \nTotal:                            NaN                      NaN  \nTotal:                            NaN                      NaN  \nTotal:                            NaN                      NaN  \nTotal:                            NaN                      NaN  \nTotal:                            NaN                      NaN  \n\n[246 rows x 20 columns]",
      "text/html": "<div>\n<style scoped>\n    .dataframe tbody tr th:only-of-type {\n        vertical-align: middle;\n    }\n\n    .dataframe tbody tr th {\n        vertical-align: top;\n    }\n\n    .dataframe thead th {\n        text-align: right;\n    }\n</style>\n<table border=\"1\" class=\"dataframe\">\n  <thead>\n    <tr style=\"text-align: right;\">\n      <th></th>\n      <th>Population</th>\n      <th>Total Cases</th>\n      <th>New Cases</th>\n      <th>Total Deaths</th>\n      <th>New Deaths</th>\n      <th>Total Recovered</th>\n      <th>New Recovered</th>\n      <th>Active Cases</th>\n      <th>Critical Cases</th>\n      <th>Total Cases / 1M People</th>\n      <th>Total Deaths / 1M People</th>\n      <th>Total Tests</th>\n      <th>Total Tests / 1M People</th>\n      <th>Continent</th>\n      <th>One Case / n People</th>\n      <th>One Death / n People</th>\n      <th>One Test / n People</th>\n      <th>New Cases / 1M People</th>\n      <th>New Deaths / 1M People</th>\n      <th>Active Cases / 1M People</th>\n    </tr>\n    <tr>\n      <th>Country</th>\n      <th></th>\n      <th></th>\n      <th></th>\n      <th></th>\n      <th></th>\n      <th></th>\n      <th></th>\n      <th></th>\n      <th></th>\n      <th></th>\n      <th></th>\n      <th></th>\n      <th></th>\n      <th></th>\n      <th></th>\n      <th></th>\n      <th></th>\n      <th></th>\n      <th></th>\n      <th></th>\n    </tr>\n  </thead>\n  <tbody>\n    <tr>\n      <th>North America</th>\n      <td>NaN</td>\n      <td>121,262,081</td>\n      <td>+5,968</td>\n      <td>1,578,160</td>\n      <td>28.0</td>\n      <td>116,064,929</td>\n      <td>+5,895</td>\n      <td>3,618,992</td>\n      <td>9,463</td>\n      <td>NaN</td>\n      <td>NaN</td>\n      <td>NaN</td>\n      <td>NaN</td>\n      <td>North America</td>\n      <td>\\n</td>\n      <td>NaN</td>\n      <td>NaN</td>\n      <td>NaN</td>\n      <td>NaN</td>\n      <td>NaN</td>\n    </tr>\n    <tr>\n      <th>Asia</th>\n      <td>NaN</td>\n      <td>206,595,856</td>\n      <td>+323,654</td>\n      <td>1,511,157</td>\n      <td>635.0</td>\n      <td>193,360,313</td>\n      <td>+100,774</td>\n      <td>11,724,386</td>\n      <td>11,331</td>\n      <td>NaN</td>\n      <td>NaN</td>\n      <td>NaN</td>\n      <td>NaN</td>\n      <td>Asia</td>\n      <td>\\n</td>\n      <td>NaN</td>\n      <td>NaN</td>\n      <td>NaN</td>\n      <td>NaN</td>\n      <td>NaN</td>\n    </tr>\n    <tr>\n      <th>Europe</th>\n      <td>NaN</td>\n      <td>242,719,800</td>\n      <td>+15,247</td>\n      <td>1,980,119</td>\n      <td>110.0</td>\n      <td>236,784,979</td>\n      <td>+66,776</td>\n      <td>3,954,702</td>\n      <td>7,569</td>\n      <td>NaN</td>\n      <td>NaN</td>\n      <td>NaN</td>\n      <td>NaN</td>\n      <td>Europe</td>\n      <td>\\n</td>\n      <td>NaN</td>\n      <td>NaN</td>\n      <td>NaN</td>\n      <td>NaN</td>\n      <td>NaN</td>\n    </tr>\n    <tr>\n      <th>South America</th>\n      <td>NaN</td>\n      <td>66,758,003</td>\n      <td>+3,145</td>\n      <td>1,341,406</td>\n      <td>1.0</td>\n      <td>64,253,133</td>\n      <td>+23,085</td>\n      <td>1,163,464</td>\n      <td>10,341</td>\n      <td>NaN</td>\n      <td>NaN</td>\n      <td>NaN</td>\n      <td>NaN</td>\n      <td>South America</td>\n      <td>\\n</td>\n      <td>NaN</td>\n      <td>NaN</td>\n      <td>NaN</td>\n      <td>NaN</td>\n      <td>NaN</td>\n    </tr>\n    <tr>\n      <th>Oceania</th>\n      <td>NaN</td>\n      <td>13,582,848</td>\n      <td>+2,758</td>\n      <td>23,298</td>\n      <td>24.0</td>\n      <td>13,232,703</td>\n      <td>+20</td>\n      <td>326,847</td>\n      <td>161</td>\n      <td>NaN</td>\n      <td>NaN</td>\n      <td>NaN</td>\n      <td>NaN</td>\n      <td>Australia/Oceania</td>\n      <td>\\n</td>\n      <td>NaN</td>\n      <td>NaN</td>\n      <td>NaN</td>\n      <td>NaN</td>\n      <td>NaN</td>\n    </tr>\n    <tr>\n      <th>...</th>\n      <td>...</td>\n      <td>...</td>\n      <td>...</td>\n      <td>...</td>\n      <td>...</td>\n      <td>...</td>\n      <td>...</td>\n      <td>...</td>\n      <td>...</td>\n      <td>...</td>\n      <td>...</td>\n      <td>...</td>\n      <td>...</td>\n      <td>...</td>\n      <td>...</td>\n      <td>...</td>\n      <td>...</td>\n      <td>...</td>\n      <td>...</td>\n      <td>...</td>\n    </tr>\n    <tr>\n      <th>Total:</th>\n      <td>NaN</td>\n      <td>66,758,003</td>\n      <td>+3,145</td>\n      <td>1,341,406</td>\n      <td>1.0</td>\n      <td>64,253,133</td>\n      <td>+23,085</td>\n      <td>1,163,464</td>\n      <td>10,341</td>\n      <td>NaN</td>\n      <td>NaN</td>\n      <td>NaN</td>\n      <td>NaN</td>\n      <td>South America</td>\n      <td></td>\n      <td>NaN</td>\n      <td>NaN</td>\n      <td>NaN</td>\n      <td>NaN</td>\n      <td>NaN</td>\n    </tr>\n    <tr>\n      <th>Total:</th>\n      <td>NaN</td>\n      <td>13,582,848</td>\n      <td>+2,758</td>\n      <td>23,298</td>\n      <td>24.0</td>\n      <td>13,232,703</td>\n      <td>+20</td>\n      <td>326,847</td>\n      <td>161</td>\n      <td>NaN</td>\n      <td>NaN</td>\n      <td>NaN</td>\n      <td>NaN</td>\n      <td>Australia/Oceania</td>\n      <td></td>\n      <td>NaN</td>\n      <td>NaN</td>\n      <td>NaN</td>\n      <td>NaN</td>\n      <td>NaN</td>\n    </tr>\n    <tr>\n      <th>Total:</th>\n      <td>NaN</td>\n      <td>12,739,722</td>\n      <td>NaN</td>\n      <td>258,339</td>\n      <td>NaN</td>\n      <td>12,037,414</td>\n      <td>NaN</td>\n      <td>443,969</td>\n      <td>843</td>\n      <td>NaN</td>\n      <td>NaN</td>\n      <td>NaN</td>\n      <td>NaN</td>\n      <td>Africa</td>\n      <td></td>\n      <td>NaN</td>\n      <td>NaN</td>\n      <td>NaN</td>\n      <td>NaN</td>\n      <td>NaN</td>\n    </tr>\n    <tr>\n      <th>Total:</th>\n      <td>NaN</td>\n      <td>721</td>\n      <td>NaN</td>\n      <td>15</td>\n      <td>NaN</td>\n      <td>706</td>\n      <td>NaN</td>\n      <td>0</td>\n      <td>0</td>\n      <td>NaN</td>\n      <td>NaN</td>\n      <td>NaN</td>\n      <td>NaN</td>\n      <td>NaN</td>\n      <td></td>\n      <td>NaN</td>\n      <td>NaN</td>\n      <td>NaN</td>\n      <td>NaN</td>\n      <td>NaN</td>\n    </tr>\n    <tr>\n      <th>Total:</th>\n      <td>NaN</td>\n      <td>663,659,031</td>\n      <td>+350,772</td>\n      <td>6,692,494</td>\n      <td>798.0</td>\n      <td>635,734,177</td>\n      <td>+196,550</td>\n      <td>21,232,360</td>\n      <td>39,708</td>\n      <td>85,141.3</td>\n      <td>858.6</td>\n      <td>NaN</td>\n      <td>NaN</td>\n      <td>All</td>\n      <td>\\n</td>\n      <td>NaN</td>\n      <td>NaN</td>\n      <td>NaN</td>\n      <td>NaN</td>\n      <td>NaN</td>\n    </tr>\n  </tbody>\n</table>\n<p>246 rows × 20 columns</p>\n</div>"
     },
     "execution_count": 104,
     "metadata": {},
     "output_type": "execute_result"
    }
   ],
   "source": [
    "# Creating list of column names\n",
    "col_names = [\"Country\", \"Total Cases\", \"New Cases\", \"Total Deaths\", \"New Deaths\", \"Total Recovered\", \"New Recovered\", \"Active Cases\", \"Critical Cases\",\n",
    "             \"Total Cases / 1M People\", \"Total Deaths / 1M People\", \"Total Tests\", \"Total Tests / 1M People\", \"Population\", \"Continent\", \"One Case / n People\",\n",
    "             \"One Death / n People\", \"One Test / n People\", \"New Cases / 1M People\", \"New Deaths / 1M People\", \"Active Cases / 1M People\"]\n",
    "\n",
    "# Reading the csv to a dataframe with the column names specified, encoding with \"latin-1\" to get around \"utf-8\" decoding issue.\n",
    "df = pd.read_csv(\"Live_Covid_Data.csv\", names=col_names, header=None, encoding=\"latin-1\")\n",
    "\n",
    "# Tidying up the names of the continent by removing the \"\\n\"'s on it, i.e. \"\\nNorth America\\n\"\n",
    "old_continent_list = df.iloc[0:7][\"Country\"].tolist()  # Locating the continent names and putting them into a list\n",
    "new_continent_list = []  # Defining a list for the formatted continent names\n",
    "for old_continent in old_continent_list:\n",
    "     new_continent = \"Antarctica\" if old_continent == \"\\n\\n\" else old_continent.replace(\"\\n\", \"\")\n",
    "     new_continent_list.append(new_continent)\n",
    "\n",
    "# Changing the index to the name of the Country/Continent\n",
    "df.set_index(\"Country\", inplace=True)\n",
    "\n",
    "# Changing the index name to the re-formatted continents. set_value has been depricated, also before setting the index as Country the continent rows had\n",
    "# an index of NaN so at[row, col] couldn't be used to assign values either. Therefore, application of the reformatted names had to after set_index was done.\n",
    "n = 0\n",
    "for new_continent in new_continent_list:\n",
    "    df.rename(index={old_continent_list[n]: new_continent}, inplace=True)\n",
    "    n += 1\n",
    "\n",
    "# Moving country population to first column as it is important for comparison to total cases etc\n",
    "country_pop_col = df.pop(\"Population\")\n",
    "df.insert(0, \"Population\", country_pop_col)\n",
    "\n",
    "# Removing the \"Total:\" countries from DF as well as cruise ships \"MS Zaandam\" and \"Diamond Princess\"\n",
    "\n",
    "\n",
    "# Calculating the population of each of the continent groups based on the countries assigned to that group\n",
    "# NA_pop = df.loc[df[\"Continent\"] == \"North America\", \"Population\"].sum()\n",
    "# print(NA_pop)\n",
    "\n",
    "df"
   ]
  },
  {
   "cell_type": "markdown",
   "source": [
    "Step 3: Exploratory Data Analysis (8%)"
   ],
   "metadata": {
    "collapsed": false
   }
  },
  {
   "cell_type": "code",
   "execution_count": null,
   "outputs": [],
   "source": [],
   "metadata": {
    "collapsed": false
   }
  },
  {
   "cell_type": "markdown",
   "source": [
    "Step 4a: Question 1 (10%)"
   ],
   "metadata": {
    "collapsed": false
   }
  },
  {
   "cell_type": "code",
   "execution_count": null,
   "outputs": [],
   "source": [],
   "metadata": {
    "collapsed": false
   }
  },
  {
   "cell_type": "markdown",
   "source": [
    "Step 4b: Question 2 (10%)"
   ],
   "metadata": {
    "collapsed": false
   }
  },
  {
   "cell_type": "code",
   "execution_count": null,
   "outputs": [],
   "source": [],
   "metadata": {
    "collapsed": false
   }
  },
  {
   "cell_type": "markdown",
   "source": [
    "Step 4c: Question 3 (10%)"
   ],
   "metadata": {
    "collapsed": false
   }
  },
  {
   "cell_type": "code",
   "execution_count": null,
   "outputs": [],
   "source": [],
   "metadata": {
    "collapsed": false
   }
  },
  {
   "cell_type": "markdown",
   "source": [
    "Step 5: Summary and Conclusion (5%)"
   ],
   "metadata": {
    "collapsed": false
   }
  },
  {
   "cell_type": "markdown",
   "source": [
    "Write summary/conc in here"
   ],
   "metadata": {
    "collapsed": false
   }
  }
 ],
 "metadata": {
  "kernelspec": {
   "display_name": "Python 3 (ipykernel)",
   "language": "python",
   "name": "python3"
  },
  "language_info": {
   "codemirror_mode": {
    "name": "ipython",
    "version": 3
   },
   "file_extension": ".py",
   "mimetype": "text/x-python",
   "name": "python",
   "nbconvert_exporter": "python",
   "pygments_lexer": "ipython3",
   "version": "3.9.12"
  }
 },
 "nbformat": 4,
 "nbformat_minor": 4
}
