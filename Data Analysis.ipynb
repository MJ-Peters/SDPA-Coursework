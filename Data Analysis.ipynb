{
 "cells": [
  {
   "cell_type": "markdown",
   "source": [
    "Step 0: Importing Relevant Packages (0%)"
   ],
   "metadata": {
    "collapsed": false
   }
  },
  {
   "cell_type": "code",
   "execution_count": 15,
   "metadata": {
    "collapsed": false,
    "jupyter": {
     "outputs_hidden": false
    }
   },
   "outputs": [],
   "source": [
    "# Web Scraping Libraries\n",
    "from bs4 import BeautifulSoup  # for scraping\n",
    "import requests  # for sending HTTP requests\n",
    "# Data Processing Libraries\n",
    "import csv\n",
    "import pandas as pd\n",
    "import numpy as np\n",
    "import matplotlib.pyplot as plt\n",
    "import seaborn as sns"
   ]
  },
  {
   "cell_type": "markdown",
   "metadata": {},
   "source": [
    "Step 1: Crawl a Real World Data Set (2%)"
   ]
  },
  {
   "cell_type": "code",
   "execution_count": 20,
   "outputs": [],
   "source": [
    "url = \"https://www.worldometers.info/coronavirus/#main_table\"  # Web address of data\n",
    "response = requests.get(url)  # Performing a get request for the data at the url location\n",
    "soup_object = BeautifulSoup(response.content)  # Parsing the request response to create a soup_object that can be searched for a table\n",
    "covid_table = soup_object.find(\"table\")  # Searching the soup_object for a table\n",
    "\n",
    "with open(\"Live_Covid_Data.csv\", \"w\", newline=\"\") as csv_file:  # Opening a CSV file to be written into\n",
    "    writer = csv.writer(csv_file)  # Defining the writer as a csv writer that writes to the opened file\n",
    "\n",
    "    for row in table.find_all(\"tr\"):  # Iterate through the rows of the table, \"tr\" points to a row in the table\n",
    "        cells = row.find_all(\"td\")  # Get the cells in the row, \"td\" points to a cell in the row\n",
    "\n",
    "        if cells:  # If there are cells...\n",
    "            values = [cell.text for cell in cells]  # Values is a list of values for each cell in the row of cells\n",
    "            writer.writerow(values)  # Write the values to the CSV\n"
   ],
   "metadata": {
    "collapsed": false
   }
  },
  {
   "cell_type": "markdown",
   "source": [
    "Step 2: Data Preparation and Cleaning (5%)"
   ],
   "metadata": {
    "collapsed": false
   }
  },
  {
   "cell_type": "code",
   "execution_count": 57,
   "metadata": {},
   "outputs": [
    {
     "data": {
      "text/plain": "               Country  Total Cases New Cases Total Deaths  New Deaths  \\\nNaN  \\nNorth America\\n  121,153,860        20    1,577,299         NaN   \nNaN           \\nAsia\\n  206,269,228   359,815    1,510,515       614.0   \nNaN         \\nEurope\\n  242,566,203    21,183    1,979,053       146.0   \nNaN  \\nSouth America\\n   66,709,623     5,622    1,341,029         5.0   \nNaN        \\nOceania\\n   13,580,074     2,117       23,274         NaN   \nNaN         \\nAfrica\\n   12,738,671       154      258,338         1.0   \nNaN               \\n\\n          721       NaN           15         NaN   \nNaN              World  663,018,380   388,911    6,689,523       766.0   \n1.0                USA  102,307,321       NaN    1,116,365         NaN   \n2.0              India   44,678,763       NaN      530,696         NaN   \n3.0             France   39,159,757       NaN      161,152         NaN   \n4.0            Germany   37,272,430       NaN      160,972         NaN   \n5.0             Brazil   36,238,042       NaN      693,267         NaN   \n6.0           S. Korea   28,859,713    87,517       31,951        69.0   \n7.0              Japan   28,764,223   216,219       56,228       415.0   \n\n    Total Recovered New Recovered Active Cases Critical Cases  \\\nNaN     116,021,050         2,529    3,555,511          9,185   \nNaN     193,256,698        97,077   11,502,015         10,966   \nNaN     236,644,243       150,556    3,942,907          7,899   \nNaN      64,212,906        17,278    1,155,688         10,347   \nNaN      13,232,661           NaN      324,139            160   \nNaN      12,036,221            49      444,112            843   \nNaN             706           NaN            0              0   \nNaN     635,404,485       267,489   20,924,372         39,400   \n1.0      99,330,862           NaN    1,860,094          4,002   \n2.0      44,143,483           NaN        4,584            698   \n3.0      38,098,681        75,752      899,924            869   \n4.0      36,542,100        37,500      569,358          1,406   \n5.0      34,875,481           NaN      669,294          8,318   \n6.0      27,642,281        62,558    1,185,481            587   \n7.0      21,053,977         6,250    7,654,018            577   \n\n    Total Cases / 1M People  ...    Total Tests Total Tests / 1M People  \\\nNaN                     NaN  ...            NaN                     NaN   \nNaN                     NaN  ...            NaN                     NaN   \nNaN                     NaN  ...            NaN                     NaN   \nNaN                     NaN  ...            NaN                     NaN   \nNaN                     NaN  ...            NaN                     NaN   \nNaN                     NaN  ...            NaN                     NaN   \nNaN                     NaN  ...            NaN                     NaN   \nNaN                  85,059  ...            NaN                     NaN   \n1.0                 305,573  ...  1,151,242,966               3,438,545   \n2.0                  31,763  ...    909,993,187                 646,931   \n3.0                 597,088  ...    271,490,188               4,139,547   \n4.0                 444,335  ...    122,332,384               1,458,359   \n5.0                 168,272  ...     63,776,166                 296,146   \n6.0                 562,240  ...     15,804,065                 307,892   \n7.0                 229,042  ...     86,237,109                 686,684   \n\n        Population          Continent One Case / n People  \\\nNaN            NaN      North America                  \\n   \nNaN            NaN               Asia                  \\n   \nNaN            NaN             Europe                  \\n   \nNaN            NaN      South America                  \\n   \nNaN            NaN  Australia/Oceania                  \\n   \nNaN            NaN             Africa                  \\n   \nNaN            NaN                NaN                  \\n   \nNaN            NaN                All                  \\n   \n1.0    334,805,269      North America                   3   \n2.0  1,406,631,776               Asia                  31   \n3.0     65,584,518             Europe                   2   \n4.0     83,883,596             Europe                   2   \n5.0    215,353,593      South America                   6   \n6.0     51,329,899               Asia                   2   \n7.0    125,584,838               Asia                   4   \n\n    One Death / n People One Test / n People  New Cases / 1M People  \\\nNaN                  NaN                 NaN                    NaN   \nNaN                  NaN                 NaN                    NaN   \nNaN                  NaN                 NaN                    NaN   \nNaN                  NaN                 NaN                    NaN   \nNaN                  NaN                 NaN                    NaN   \nNaN                  NaN                 NaN                    NaN   \nNaN                  NaN                 NaN                    NaN   \nNaN                  NaN                 NaN                    NaN   \n1.0                  300                 0.0                    NaN   \n2.0                2,651                 2.0                    NaN   \n3.0                  407                 0.0                    NaN   \n4.0                  521                 1.0                    NaN   \n5.0                  311                 3.0                    NaN   \n6.0                1,607                 3.0                  1,705   \n7.0                2,233                 1.0                  1,722   \n\n    New Deaths / 1M People  Active Cases / 1M People  \nNaN                    NaN                       NaN  \nNaN                    NaN                       NaN  \nNaN                    NaN                       NaN  \nNaN                    NaN                       NaN  \nNaN                    NaN                       NaN  \nNaN                    NaN                       NaN  \nNaN                    NaN                       NaN  \nNaN                    NaN                       NaN  \n1.0                    NaN                     5,556  \n2.0                    NaN                         3  \n3.0                    NaN                    13,722  \n4.0                    NaN                     6,787  \n5.0                    NaN                     3,108  \n6.0                    1.0                    23,095  \n7.0                    3.0                    60,947  \n\n[15 rows x 21 columns]",
      "text/html": "<div>\n<style scoped>\n    .dataframe tbody tr th:only-of-type {\n        vertical-align: middle;\n    }\n\n    .dataframe tbody tr th {\n        vertical-align: top;\n    }\n\n    .dataframe thead th {\n        text-align: right;\n    }\n</style>\n<table border=\"1\" class=\"dataframe\">\n  <thead>\n    <tr style=\"text-align: right;\">\n      <th></th>\n      <th>Country</th>\n      <th>Total Cases</th>\n      <th>New Cases</th>\n      <th>Total Deaths</th>\n      <th>New Deaths</th>\n      <th>Total Recovered</th>\n      <th>New Recovered</th>\n      <th>Active Cases</th>\n      <th>Critical Cases</th>\n      <th>Total Cases / 1M People</th>\n      <th>...</th>\n      <th>Total Tests</th>\n      <th>Total Tests / 1M People</th>\n      <th>Population</th>\n      <th>Continent</th>\n      <th>One Case / n People</th>\n      <th>One Death / n People</th>\n      <th>One Test / n People</th>\n      <th>New Cases / 1M People</th>\n      <th>New Deaths / 1M People</th>\n      <th>Active Cases / 1M People</th>\n    </tr>\n  </thead>\n  <tbody>\n    <tr>\n      <th>NaN</th>\n      <td>\\nNorth America\\n</td>\n      <td>121,153,860</td>\n      <td>20</td>\n      <td>1,577,299</td>\n      <td>NaN</td>\n      <td>116,021,050</td>\n      <td>2,529</td>\n      <td>3,555,511</td>\n      <td>9,185</td>\n      <td>NaN</td>\n      <td>...</td>\n      <td>NaN</td>\n      <td>NaN</td>\n      <td>NaN</td>\n      <td>North America</td>\n      <td>\\n</td>\n      <td>NaN</td>\n      <td>NaN</td>\n      <td>NaN</td>\n      <td>NaN</td>\n      <td>NaN</td>\n    </tr>\n    <tr>\n      <th>NaN</th>\n      <td>\\nAsia\\n</td>\n      <td>206,269,228</td>\n      <td>359,815</td>\n      <td>1,510,515</td>\n      <td>614.0</td>\n      <td>193,256,698</td>\n      <td>97,077</td>\n      <td>11,502,015</td>\n      <td>10,966</td>\n      <td>NaN</td>\n      <td>...</td>\n      <td>NaN</td>\n      <td>NaN</td>\n      <td>NaN</td>\n      <td>Asia</td>\n      <td>\\n</td>\n      <td>NaN</td>\n      <td>NaN</td>\n      <td>NaN</td>\n      <td>NaN</td>\n      <td>NaN</td>\n    </tr>\n    <tr>\n      <th>NaN</th>\n      <td>\\nEurope\\n</td>\n      <td>242,566,203</td>\n      <td>21,183</td>\n      <td>1,979,053</td>\n      <td>146.0</td>\n      <td>236,644,243</td>\n      <td>150,556</td>\n      <td>3,942,907</td>\n      <td>7,899</td>\n      <td>NaN</td>\n      <td>...</td>\n      <td>NaN</td>\n      <td>NaN</td>\n      <td>NaN</td>\n      <td>Europe</td>\n      <td>\\n</td>\n      <td>NaN</td>\n      <td>NaN</td>\n      <td>NaN</td>\n      <td>NaN</td>\n      <td>NaN</td>\n    </tr>\n    <tr>\n      <th>NaN</th>\n      <td>\\nSouth America\\n</td>\n      <td>66,709,623</td>\n      <td>5,622</td>\n      <td>1,341,029</td>\n      <td>5.0</td>\n      <td>64,212,906</td>\n      <td>17,278</td>\n      <td>1,155,688</td>\n      <td>10,347</td>\n      <td>NaN</td>\n      <td>...</td>\n      <td>NaN</td>\n      <td>NaN</td>\n      <td>NaN</td>\n      <td>South America</td>\n      <td>\\n</td>\n      <td>NaN</td>\n      <td>NaN</td>\n      <td>NaN</td>\n      <td>NaN</td>\n      <td>NaN</td>\n    </tr>\n    <tr>\n      <th>NaN</th>\n      <td>\\nOceania\\n</td>\n      <td>13,580,074</td>\n      <td>2,117</td>\n      <td>23,274</td>\n      <td>NaN</td>\n      <td>13,232,661</td>\n      <td>NaN</td>\n      <td>324,139</td>\n      <td>160</td>\n      <td>NaN</td>\n      <td>...</td>\n      <td>NaN</td>\n      <td>NaN</td>\n      <td>NaN</td>\n      <td>Australia/Oceania</td>\n      <td>\\n</td>\n      <td>NaN</td>\n      <td>NaN</td>\n      <td>NaN</td>\n      <td>NaN</td>\n      <td>NaN</td>\n    </tr>\n    <tr>\n      <th>NaN</th>\n      <td>\\nAfrica\\n</td>\n      <td>12,738,671</td>\n      <td>154</td>\n      <td>258,338</td>\n      <td>1.0</td>\n      <td>12,036,221</td>\n      <td>49</td>\n      <td>444,112</td>\n      <td>843</td>\n      <td>NaN</td>\n      <td>...</td>\n      <td>NaN</td>\n      <td>NaN</td>\n      <td>NaN</td>\n      <td>Africa</td>\n      <td>\\n</td>\n      <td>NaN</td>\n      <td>NaN</td>\n      <td>NaN</td>\n      <td>NaN</td>\n      <td>NaN</td>\n    </tr>\n    <tr>\n      <th>NaN</th>\n      <td>\\n\\n</td>\n      <td>721</td>\n      <td>NaN</td>\n      <td>15</td>\n      <td>NaN</td>\n      <td>706</td>\n      <td>NaN</td>\n      <td>0</td>\n      <td>0</td>\n      <td>NaN</td>\n      <td>...</td>\n      <td>NaN</td>\n      <td>NaN</td>\n      <td>NaN</td>\n      <td>NaN</td>\n      <td>\\n</td>\n      <td>NaN</td>\n      <td>NaN</td>\n      <td>NaN</td>\n      <td>NaN</td>\n      <td>NaN</td>\n    </tr>\n    <tr>\n      <th>NaN</th>\n      <td>World</td>\n      <td>663,018,380</td>\n      <td>388,911</td>\n      <td>6,689,523</td>\n      <td>766.0</td>\n      <td>635,404,485</td>\n      <td>267,489</td>\n      <td>20,924,372</td>\n      <td>39,400</td>\n      <td>85,059</td>\n      <td>...</td>\n      <td>NaN</td>\n      <td>NaN</td>\n      <td>NaN</td>\n      <td>All</td>\n      <td>\\n</td>\n      <td>NaN</td>\n      <td>NaN</td>\n      <td>NaN</td>\n      <td>NaN</td>\n      <td>NaN</td>\n    </tr>\n    <tr>\n      <th>1.0</th>\n      <td>USA</td>\n      <td>102,307,321</td>\n      <td>NaN</td>\n      <td>1,116,365</td>\n      <td>NaN</td>\n      <td>99,330,862</td>\n      <td>NaN</td>\n      <td>1,860,094</td>\n      <td>4,002</td>\n      <td>305,573</td>\n      <td>...</td>\n      <td>1,151,242,966</td>\n      <td>3,438,545</td>\n      <td>334,805,269</td>\n      <td>North America</td>\n      <td>3</td>\n      <td>300</td>\n      <td>0.0</td>\n      <td>NaN</td>\n      <td>NaN</td>\n      <td>5,556</td>\n    </tr>\n    <tr>\n      <th>2.0</th>\n      <td>India</td>\n      <td>44,678,763</td>\n      <td>NaN</td>\n      <td>530,696</td>\n      <td>NaN</td>\n      <td>44,143,483</td>\n      <td>NaN</td>\n      <td>4,584</td>\n      <td>698</td>\n      <td>31,763</td>\n      <td>...</td>\n      <td>909,993,187</td>\n      <td>646,931</td>\n      <td>1,406,631,776</td>\n      <td>Asia</td>\n      <td>31</td>\n      <td>2,651</td>\n      <td>2.0</td>\n      <td>NaN</td>\n      <td>NaN</td>\n      <td>3</td>\n    </tr>\n    <tr>\n      <th>3.0</th>\n      <td>France</td>\n      <td>39,159,757</td>\n      <td>NaN</td>\n      <td>161,152</td>\n      <td>NaN</td>\n      <td>38,098,681</td>\n      <td>75,752</td>\n      <td>899,924</td>\n      <td>869</td>\n      <td>597,088</td>\n      <td>...</td>\n      <td>271,490,188</td>\n      <td>4,139,547</td>\n      <td>65,584,518</td>\n      <td>Europe</td>\n      <td>2</td>\n      <td>407</td>\n      <td>0.0</td>\n      <td>NaN</td>\n      <td>NaN</td>\n      <td>13,722</td>\n    </tr>\n    <tr>\n      <th>4.0</th>\n      <td>Germany</td>\n      <td>37,272,430</td>\n      <td>NaN</td>\n      <td>160,972</td>\n      <td>NaN</td>\n      <td>36,542,100</td>\n      <td>37,500</td>\n      <td>569,358</td>\n      <td>1,406</td>\n      <td>444,335</td>\n      <td>...</td>\n      <td>122,332,384</td>\n      <td>1,458,359</td>\n      <td>83,883,596</td>\n      <td>Europe</td>\n      <td>2</td>\n      <td>521</td>\n      <td>1.0</td>\n      <td>NaN</td>\n      <td>NaN</td>\n      <td>6,787</td>\n    </tr>\n    <tr>\n      <th>5.0</th>\n      <td>Brazil</td>\n      <td>36,238,042</td>\n      <td>NaN</td>\n      <td>693,267</td>\n      <td>NaN</td>\n      <td>34,875,481</td>\n      <td>NaN</td>\n      <td>669,294</td>\n      <td>8,318</td>\n      <td>168,272</td>\n      <td>...</td>\n      <td>63,776,166</td>\n      <td>296,146</td>\n      <td>215,353,593</td>\n      <td>South America</td>\n      <td>6</td>\n      <td>311</td>\n      <td>3.0</td>\n      <td>NaN</td>\n      <td>NaN</td>\n      <td>3,108</td>\n    </tr>\n    <tr>\n      <th>6.0</th>\n      <td>S. Korea</td>\n      <td>28,859,713</td>\n      <td>87,517</td>\n      <td>31,951</td>\n      <td>69.0</td>\n      <td>27,642,281</td>\n      <td>62,558</td>\n      <td>1,185,481</td>\n      <td>587</td>\n      <td>562,240</td>\n      <td>...</td>\n      <td>15,804,065</td>\n      <td>307,892</td>\n      <td>51,329,899</td>\n      <td>Asia</td>\n      <td>2</td>\n      <td>1,607</td>\n      <td>3.0</td>\n      <td>1,705</td>\n      <td>1.0</td>\n      <td>23,095</td>\n    </tr>\n    <tr>\n      <th>7.0</th>\n      <td>Japan</td>\n      <td>28,764,223</td>\n      <td>216,219</td>\n      <td>56,228</td>\n      <td>415.0</td>\n      <td>21,053,977</td>\n      <td>6,250</td>\n      <td>7,654,018</td>\n      <td>577</td>\n      <td>229,042</td>\n      <td>...</td>\n      <td>86,237,109</td>\n      <td>686,684</td>\n      <td>125,584,838</td>\n      <td>Asia</td>\n      <td>4</td>\n      <td>2,233</td>\n      <td>1.0</td>\n      <td>1,722</td>\n      <td>3.0</td>\n      <td>60,947</td>\n    </tr>\n  </tbody>\n</table>\n<p>15 rows × 21 columns</p>\n</div>"
     },
     "execution_count": 57,
     "metadata": {},
     "output_type": "execute_result"
    }
   ],
   "source": [
    "# Creating list of column names\n",
    "col_names = [\"Country\", \"Total Cases\", \"New Cases\", \"Total Deaths\", \"New Deaths\", \"Total Recovered\", \"New Recovered\", \"Active Cases\", \"Critical Cases\",\n",
    "             \"Total Cases / 1M People\", \"Total Deaths / 1M People\", \"Total Tests\", \"Total Tests / 1M People\", \"Population\", \"Continent\", \"One Case / n People\",\n",
    "             \"One Death / n People\", \"One Test / n People\", \"New Cases / 1M People\", \"New Deaths / 1M People\", \"Active Cases / 1M People\"]\n",
    "\n",
    "# Reading the csv to a dataframe with the column names specified, encoding with \"latin-1\" to get around \"utf-8\" decoding issue.\n",
    "df = pd.read_csv(\"Live_Covid_Data.csv\", names=col_names, header=None, encoding=\"latin-1\")\n",
    "df.head(15)"
   ]
  },
  {
   "cell_type": "markdown",
   "source": [
    "Step 3: Exploratory Data Analysis (8%)"
   ],
   "metadata": {
    "collapsed": false
   }
  },
  {
   "cell_type": "code",
   "execution_count": null,
   "outputs": [],
   "source": [],
   "metadata": {
    "collapsed": false
   }
  },
  {
   "cell_type": "markdown",
   "source": [
    "Step 4a: Question 1 (10%)"
   ],
   "metadata": {
    "collapsed": false
   }
  },
  {
   "cell_type": "code",
   "execution_count": null,
   "outputs": [],
   "source": [],
   "metadata": {
    "collapsed": false
   }
  },
  {
   "cell_type": "markdown",
   "source": [
    "Step 4b: Question 2 (10%)"
   ],
   "metadata": {
    "collapsed": false
   }
  },
  {
   "cell_type": "code",
   "execution_count": null,
   "outputs": [],
   "source": [],
   "metadata": {
    "collapsed": false
   }
  },
  {
   "cell_type": "markdown",
   "source": [
    "Step 4c: Question 3 (10%)"
   ],
   "metadata": {
    "collapsed": false
   }
  },
  {
   "cell_type": "code",
   "execution_count": null,
   "outputs": [],
   "source": [],
   "metadata": {
    "collapsed": false
   }
  },
  {
   "cell_type": "markdown",
   "source": [
    "Step 5: Summary and Conclusion (5%)"
   ],
   "metadata": {
    "collapsed": false
   }
  },
  {
   "cell_type": "markdown",
   "source": [
    "Write summary/conc in here"
   ],
   "metadata": {
    "collapsed": false
   }
  }
 ],
 "metadata": {
  "kernelspec": {
   "display_name": "Python 3 (ipykernel)",
   "language": "python",
   "name": "python3"
  },
  "language_info": {
   "codemirror_mode": {
    "name": "ipython",
    "version": 3
   },
   "file_extension": ".py",
   "mimetype": "text/x-python",
   "name": "python",
   "nbconvert_exporter": "python",
   "pygments_lexer": "ipython3",
   "version": "3.9.12"
  }
 },
 "nbformat": 4,
 "nbformat_minor": 4
}
