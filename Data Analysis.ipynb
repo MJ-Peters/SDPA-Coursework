{
 "cells": [
  {
   "cell_type": "markdown",
   "source": [
    "Step 0: Importing Relevant Packages (0%)"
   ],
   "metadata": {
    "collapsed": false
   }
  },
  {
   "cell_type": "code",
   "execution_count": 1,
   "metadata": {
    "collapsed": false,
    "jupyter": {
     "outputs_hidden": false
    }
   },
   "outputs": [],
   "source": [
    "# Web Scraping Libraries\n",
    "from bs4 import BeautifulSoup  # for scraping\n",
    "import requests  # for sending HTTP requests\n",
    "# Data Processing Libraries\n",
    "import csv\n",
    "import pandas as pd\n",
    "import numpy as np\n",
    "import matplotlib.pyplot as plt\n",
    "import seaborn as sns"
   ]
  },
  {
   "cell_type": "markdown",
   "metadata": {},
   "source": [
    "Step 1: Crawl a Real World Data Set (2%)"
   ]
  },
  {
   "cell_type": "code",
   "execution_count": 2,
   "outputs": [
    {
     "ename": "NameError",
     "evalue": "name 'table' is not defined",
     "output_type": "error",
     "traceback": [
      "\u001B[1;31m---------------------------------------------------------------------------\u001B[0m",
      "\u001B[1;31mNameError\u001B[0m                                 Traceback (most recent call last)",
      "Cell \u001B[1;32mIn[2], line 9\u001B[0m\n\u001B[0;32m      6\u001B[0m \u001B[38;5;28;01mwith\u001B[39;00m \u001B[38;5;28mopen\u001B[39m(\u001B[38;5;124m\"\u001B[39m\u001B[38;5;124mLive_Covid_Data.csv\u001B[39m\u001B[38;5;124m\"\u001B[39m, \u001B[38;5;124m\"\u001B[39m\u001B[38;5;124mw\u001B[39m\u001B[38;5;124m\"\u001B[39m, newline\u001B[38;5;241m=\u001B[39m\u001B[38;5;124m\"\u001B[39m\u001B[38;5;124m\"\u001B[39m) \u001B[38;5;28;01mas\u001B[39;00m csv_file:  \u001B[38;5;66;03m# Opening a CSV file to be written into\u001B[39;00m\n\u001B[0;32m      7\u001B[0m     writer \u001B[38;5;241m=\u001B[39m csv\u001B[38;5;241m.\u001B[39mwriter(csv_file)  \u001B[38;5;66;03m# Defining the writer as a csv writer that writes to the opened file\u001B[39;00m\n\u001B[1;32m----> 9\u001B[0m     \u001B[38;5;28;01mfor\u001B[39;00m row \u001B[38;5;129;01min\u001B[39;00m \u001B[43mtable\u001B[49m\u001B[38;5;241m.\u001B[39mfind_all(\u001B[38;5;124m\"\u001B[39m\u001B[38;5;124mtr\u001B[39m\u001B[38;5;124m\"\u001B[39m):  \u001B[38;5;66;03m# Iterate through the rows of the table, \"tr\" points to a row in the table\u001B[39;00m\n\u001B[0;32m     10\u001B[0m         cells \u001B[38;5;241m=\u001B[39m row\u001B[38;5;241m.\u001B[39mfind_all(\u001B[38;5;124m\"\u001B[39m\u001B[38;5;124mtd\u001B[39m\u001B[38;5;124m\"\u001B[39m)  \u001B[38;5;66;03m# Get the cells in the row, \"td\" points to a cell in the row\u001B[39;00m\n\u001B[0;32m     12\u001B[0m         \u001B[38;5;28;01mif\u001B[39;00m cells:  \u001B[38;5;66;03m# If there are cells...\u001B[39;00m\n",
      "\u001B[1;31mNameError\u001B[0m: name 'table' is not defined"
     ]
    }
   ],
   "source": [
    "url = \"https://www.worldometers.info/coronavirus/#main_table\"  # Web address of data\n",
    "response = requests.get(url)  # Performing a get request for the data at the url location\n",
    "soup_object = BeautifulSoup(response.content)  # Parsing the request response to create a soup_object that can be searched for a table\n",
    "covid_table = soup_object.find(\"table\")  # Searching the soup_object for a table\n",
    "\n",
    "with open(\"Live_Covid_Data.csv\", \"w\", newline=\"\") as csv_file:  # Opening a CSV file to be written into\n",
    "    writer = csv.writer(csv_file)  # Defining the writer as a csv writer that writes to the opened file\n",
    "\n",
    "    for row in covid_table.find_all(\"tr\"):  # Iterate through the rows of the table, \"tr\" points to a row in the table\n",
    "        cells = row.find_all(\"td\")  # Get the cells in the row, \"td\" points to a cell in the row\n",
    "\n",
    "        if cells:  # If there are cells...\n",
    "            values = [cell.text for cell in cells]  # Values is a list of values for each cell in the row of cells\n",
    "            writer.writerow(values)  # Write the values to the CSV\n"
   ],
   "metadata": {
    "collapsed": false
   }
  },
  {
   "cell_type": "markdown",
   "source": [
    "Step 2: Data Preparation and Cleaning (5%)"
   ],
   "metadata": {
    "collapsed": false
   }
  },
  {
   "cell_type": "code",
   "execution_count": 58,
   "metadata": {},
   "outputs": [
    {
     "data": {
      "text/plain": "                 Country  Total Cases New Cases Total Deaths  New Deaths  \\\nNaN    \\nNorth America\\n  121,153,860        20    1,577,299         NaN   \nNaN             \\nAsia\\n  206,269,228   359,815    1,510,515       614.0   \nNaN           \\nEurope\\n  242,566,203    21,183    1,979,053       146.0   \nNaN    \\nSouth America\\n   66,709,623     5,622    1,341,029         5.0   \nNaN          \\nOceania\\n   13,580,074     2,117       23,274         NaN   \n...                  ...          ...       ...          ...         ...   \n226.0               Niue          421       NaN                      NaN   \n227.0       Vatican City           29       NaN                      NaN   \n228.0     Western Sahara           10       NaN            1         NaN   \n229.0         MS Zaandam            9       NaN            2         NaN   \n230.0              China      412,513     5,231        5,245         3.0   \n\n      Total Recovered New Recovered Active Cases Critical Cases  \\\nNaN       116,021,050         2,529    3,555,511          9,185   \nNaN       193,256,698        97,077   11,502,015         10,966   \nNaN       236,644,243       150,556    3,942,907          7,899   \nNaN        64,212,906        17,278    1,155,688         10,347   \nNaN        13,232,661           NaN      324,139            160   \n...               ...           ...          ...            ...   \n226.0             248           NaN          173            NaN   \n227.0              29           NaN            0            NaN   \n228.0               9           NaN            0            NaN   \n229.0               7           NaN            0            NaN   \n230.0         355,177         1,882       52,091          1,260   \n\n      Total Cases / 1M People  ...  Total Tests Total Tests / 1M People  \\\nNaN                       NaN  ...          NaN                     NaN   \nNaN                       NaN  ...          NaN                     NaN   \nNaN                       NaN  ...          NaN                     NaN   \nNaN                       NaN  ...          NaN                     NaN   \nNaN                       NaN  ...          NaN                     NaN   \n...                       ...  ...          ...                     ...   \n226.0                 259,556  ...          NaN                     NaN   \n227.0                  36,295  ...          NaN                     NaN   \n228.0                      16  ...          NaN                     NaN   \n229.0                     NaN  ...          NaN                     NaN   \n230.0                     285  ...  160,000,000                 110,461   \n\n          Population          Continent One Case / n People  \\\nNaN              NaN      North America                  \\n   \nNaN              NaN               Asia                  \\n   \nNaN              NaN             Europe                  \\n   \nNaN              NaN      South America                  \\n   \nNaN              NaN  Australia/Oceania                  \\n   \n...              ...                ...                 ...   \n226.0          1,622  Australia/Oceania                   4   \n227.0            799             Europe                  28   \n228.0        626,161             Africa              62,616   \n229.0                               NaN                 NaN   \n230.0  1,448,471,400               Asia               3,511   \n\n      One Death / n People One Test / n People  New Cases / 1M People  \\\nNaN                    NaN                 NaN                    NaN   \nNaN                    NaN                 NaN                    NaN   \nNaN                    NaN                 NaN                    NaN   \nNaN                    NaN                 NaN                    NaN   \nNaN                    NaN                 NaN                    NaN   \n...                    ...                 ...                    ...   \n226.0                  NaN                 NaN                    NaN   \n227.0                  NaN                 NaN                    NaN   \n228.0              626,161                 NaN                    NaN   \n229.0                  NaN                 NaN                    NaN   \n230.0              276,162                 9.0                      4   \n\n      New Deaths / 1M People  Active Cases / 1M People  \nNaN                      NaN                       NaN  \nNaN                      NaN                       NaN  \nNaN                      NaN                       NaN  \nNaN                      NaN                       NaN  \nNaN                      NaN                       NaN  \n...                      ...                       ...  \n226.0                    NaN                   106,658  \n227.0                    NaN                       NaN  \n228.0                    NaN                       NaN  \n229.0                    NaN                       NaN  \n230.0                    NaN                        36  \n\n[238 rows x 21 columns]",
      "text/html": "<div>\n<style scoped>\n    .dataframe tbody tr th:only-of-type {\n        vertical-align: middle;\n    }\n\n    .dataframe tbody tr th {\n        vertical-align: top;\n    }\n\n    .dataframe thead th {\n        text-align: right;\n    }\n</style>\n<table border=\"1\" class=\"dataframe\">\n  <thead>\n    <tr style=\"text-align: right;\">\n      <th></th>\n      <th>Country</th>\n      <th>Total Cases</th>\n      <th>New Cases</th>\n      <th>Total Deaths</th>\n      <th>New Deaths</th>\n      <th>Total Recovered</th>\n      <th>New Recovered</th>\n      <th>Active Cases</th>\n      <th>Critical Cases</th>\n      <th>Total Cases / 1M People</th>\n      <th>...</th>\n      <th>Total Tests</th>\n      <th>Total Tests / 1M People</th>\n      <th>Population</th>\n      <th>Continent</th>\n      <th>One Case / n People</th>\n      <th>One Death / n People</th>\n      <th>One Test / n People</th>\n      <th>New Cases / 1M People</th>\n      <th>New Deaths / 1M People</th>\n      <th>Active Cases / 1M People</th>\n    </tr>\n  </thead>\n  <tbody>\n    <tr>\n      <th>NaN</th>\n      <td>\\nNorth America\\n</td>\n      <td>121,153,860</td>\n      <td>20</td>\n      <td>1,577,299</td>\n      <td>NaN</td>\n      <td>116,021,050</td>\n      <td>2,529</td>\n      <td>3,555,511</td>\n      <td>9,185</td>\n      <td>NaN</td>\n      <td>...</td>\n      <td>NaN</td>\n      <td>NaN</td>\n      <td>NaN</td>\n      <td>North America</td>\n      <td>\\n</td>\n      <td>NaN</td>\n      <td>NaN</td>\n      <td>NaN</td>\n      <td>NaN</td>\n      <td>NaN</td>\n    </tr>\n    <tr>\n      <th>NaN</th>\n      <td>\\nAsia\\n</td>\n      <td>206,269,228</td>\n      <td>359,815</td>\n      <td>1,510,515</td>\n      <td>614.0</td>\n      <td>193,256,698</td>\n      <td>97,077</td>\n      <td>11,502,015</td>\n      <td>10,966</td>\n      <td>NaN</td>\n      <td>...</td>\n      <td>NaN</td>\n      <td>NaN</td>\n      <td>NaN</td>\n      <td>Asia</td>\n      <td>\\n</td>\n      <td>NaN</td>\n      <td>NaN</td>\n      <td>NaN</td>\n      <td>NaN</td>\n      <td>NaN</td>\n    </tr>\n    <tr>\n      <th>NaN</th>\n      <td>\\nEurope\\n</td>\n      <td>242,566,203</td>\n      <td>21,183</td>\n      <td>1,979,053</td>\n      <td>146.0</td>\n      <td>236,644,243</td>\n      <td>150,556</td>\n      <td>3,942,907</td>\n      <td>7,899</td>\n      <td>NaN</td>\n      <td>...</td>\n      <td>NaN</td>\n      <td>NaN</td>\n      <td>NaN</td>\n      <td>Europe</td>\n      <td>\\n</td>\n      <td>NaN</td>\n      <td>NaN</td>\n      <td>NaN</td>\n      <td>NaN</td>\n      <td>NaN</td>\n    </tr>\n    <tr>\n      <th>NaN</th>\n      <td>\\nSouth America\\n</td>\n      <td>66,709,623</td>\n      <td>5,622</td>\n      <td>1,341,029</td>\n      <td>5.0</td>\n      <td>64,212,906</td>\n      <td>17,278</td>\n      <td>1,155,688</td>\n      <td>10,347</td>\n      <td>NaN</td>\n      <td>...</td>\n      <td>NaN</td>\n      <td>NaN</td>\n      <td>NaN</td>\n      <td>South America</td>\n      <td>\\n</td>\n      <td>NaN</td>\n      <td>NaN</td>\n      <td>NaN</td>\n      <td>NaN</td>\n      <td>NaN</td>\n    </tr>\n    <tr>\n      <th>NaN</th>\n      <td>\\nOceania\\n</td>\n      <td>13,580,074</td>\n      <td>2,117</td>\n      <td>23,274</td>\n      <td>NaN</td>\n      <td>13,232,661</td>\n      <td>NaN</td>\n      <td>324,139</td>\n      <td>160</td>\n      <td>NaN</td>\n      <td>...</td>\n      <td>NaN</td>\n      <td>NaN</td>\n      <td>NaN</td>\n      <td>Australia/Oceania</td>\n      <td>\\n</td>\n      <td>NaN</td>\n      <td>NaN</td>\n      <td>NaN</td>\n      <td>NaN</td>\n      <td>NaN</td>\n    </tr>\n    <tr>\n      <th>...</th>\n      <td>...</td>\n      <td>...</td>\n      <td>...</td>\n      <td>...</td>\n      <td>...</td>\n      <td>...</td>\n      <td>...</td>\n      <td>...</td>\n      <td>...</td>\n      <td>...</td>\n      <td>...</td>\n      <td>...</td>\n      <td>...</td>\n      <td>...</td>\n      <td>...</td>\n      <td>...</td>\n      <td>...</td>\n      <td>...</td>\n      <td>...</td>\n      <td>...</td>\n      <td>...</td>\n    </tr>\n    <tr>\n      <th>226.0</th>\n      <td>Niue</td>\n      <td>421</td>\n      <td>NaN</td>\n      <td></td>\n      <td>NaN</td>\n      <td>248</td>\n      <td>NaN</td>\n      <td>173</td>\n      <td>NaN</td>\n      <td>259,556</td>\n      <td>...</td>\n      <td>NaN</td>\n      <td>NaN</td>\n      <td>1,622</td>\n      <td>Australia/Oceania</td>\n      <td>4</td>\n      <td>NaN</td>\n      <td>NaN</td>\n      <td>NaN</td>\n      <td>NaN</td>\n      <td>106,658</td>\n    </tr>\n    <tr>\n      <th>227.0</th>\n      <td>Vatican City</td>\n      <td>29</td>\n      <td>NaN</td>\n      <td></td>\n      <td>NaN</td>\n      <td>29</td>\n      <td>NaN</td>\n      <td>0</td>\n      <td>NaN</td>\n      <td>36,295</td>\n      <td>...</td>\n      <td>NaN</td>\n      <td>NaN</td>\n      <td>799</td>\n      <td>Europe</td>\n      <td>28</td>\n      <td>NaN</td>\n      <td>NaN</td>\n      <td>NaN</td>\n      <td>NaN</td>\n      <td>NaN</td>\n    </tr>\n    <tr>\n      <th>228.0</th>\n      <td>Western Sahara</td>\n      <td>10</td>\n      <td>NaN</td>\n      <td>1</td>\n      <td>NaN</td>\n      <td>9</td>\n      <td>NaN</td>\n      <td>0</td>\n      <td>NaN</td>\n      <td>16</td>\n      <td>...</td>\n      <td>NaN</td>\n      <td>NaN</td>\n      <td>626,161</td>\n      <td>Africa</td>\n      <td>62,616</td>\n      <td>626,161</td>\n      <td>NaN</td>\n      <td>NaN</td>\n      <td>NaN</td>\n      <td>NaN</td>\n    </tr>\n    <tr>\n      <th>229.0</th>\n      <td>MS Zaandam</td>\n      <td>9</td>\n      <td>NaN</td>\n      <td>2</td>\n      <td>NaN</td>\n      <td>7</td>\n      <td>NaN</td>\n      <td>0</td>\n      <td>NaN</td>\n      <td>NaN</td>\n      <td>...</td>\n      <td>NaN</td>\n      <td>NaN</td>\n      <td></td>\n      <td>NaN</td>\n      <td>NaN</td>\n      <td>NaN</td>\n      <td>NaN</td>\n      <td>NaN</td>\n      <td>NaN</td>\n      <td>NaN</td>\n    </tr>\n    <tr>\n      <th>230.0</th>\n      <td>China</td>\n      <td>412,513</td>\n      <td>5,231</td>\n      <td>5,245</td>\n      <td>3.0</td>\n      <td>355,177</td>\n      <td>1,882</td>\n      <td>52,091</td>\n      <td>1,260</td>\n      <td>285</td>\n      <td>...</td>\n      <td>160,000,000</td>\n      <td>110,461</td>\n      <td>1,448,471,400</td>\n      <td>Asia</td>\n      <td>3,511</td>\n      <td>276,162</td>\n      <td>9.0</td>\n      <td>4</td>\n      <td>NaN</td>\n      <td>36</td>\n    </tr>\n  </tbody>\n</table>\n<p>238 rows × 21 columns</p>\n</div>"
     },
     "execution_count": 58,
     "metadata": {},
     "output_type": "execute_result"
    }
   ],
   "source": [
    "# Creating list of column names\n",
    "col_names = [\"Country\", \"Total Cases\", \"New Cases\", \"Total Deaths\", \"New Deaths\", \"Total Recovered\", \"New Recovered\", \"Active Cases\", \"Critical Cases\",\n",
    "             \"Total Cases / 1M People\", \"Total Deaths / 1M People\", \"Total Tests\", \"Total Tests / 1M People\", \"Population\", \"Continent\", \"One Case / n People\",\n",
    "             \"One Death / n People\", \"One Test / n People\", \"New Cases / 1M People\", \"New Deaths / 1M People\", \"Active Cases / 1M People\"]\n",
    "\n",
    "# Reading the csv to a dataframe with the column names specified, encoding with \"latin-1\" to get around \"utf-8\" decoding issue.\n",
    "df = pd.read_csv(\"Live_Covid_Data.csv\", names=col_names, header=None, encoding=\"latin-1\")\n",
    "df"
   ]
  },
  {
   "cell_type": "markdown",
   "source": [
    "Step 3: Exploratory Data Analysis (8%)"
   ],
   "metadata": {
    "collapsed": false
   }
  },
  {
   "cell_type": "code",
   "execution_count": null,
   "outputs": [],
   "source": [],
   "metadata": {
    "collapsed": false
   }
  },
  {
   "cell_type": "markdown",
   "source": [
    "Step 4a: Question 1 (10%)"
   ],
   "metadata": {
    "collapsed": false
   }
  },
  {
   "cell_type": "code",
   "execution_count": null,
   "outputs": [],
   "source": [],
   "metadata": {
    "collapsed": false
   }
  },
  {
   "cell_type": "markdown",
   "source": [
    "Step 4b: Question 2 (10%)"
   ],
   "metadata": {
    "collapsed": false
   }
  },
  {
   "cell_type": "code",
   "execution_count": null,
   "outputs": [],
   "source": [],
   "metadata": {
    "collapsed": false
   }
  },
  {
   "cell_type": "markdown",
   "source": [
    "Step 4c: Question 3 (10%)"
   ],
   "metadata": {
    "collapsed": false
   }
  },
  {
   "cell_type": "code",
   "execution_count": null,
   "outputs": [],
   "source": [],
   "metadata": {
    "collapsed": false
   }
  },
  {
   "cell_type": "markdown",
   "source": [
    "Step 5: Summary and Conclusion (5%)"
   ],
   "metadata": {
    "collapsed": false
   }
  },
  {
   "cell_type": "markdown",
   "source": [
    "Write summary/conc in here"
   ],
   "metadata": {
    "collapsed": false
   }
  }
 ],
 "metadata": {
  "kernelspec": {
   "display_name": "Python 3 (ipykernel)",
   "language": "python",
   "name": "python3"
  },
  "language_info": {
   "codemirror_mode": {
    "name": "ipython",
    "version": 3
   },
   "file_extension": ".py",
   "mimetype": "text/x-python",
   "name": "python",
   "nbconvert_exporter": "python",
   "pygments_lexer": "ipython3",
   "version": "3.9.12"
  }
 },
 "nbformat": 4,
 "nbformat_minor": 4
}
