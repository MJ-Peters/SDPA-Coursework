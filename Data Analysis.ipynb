{
 "cells": [
  {
   "cell_type": "markdown",
   "source": [
    "Step 0: Importing Relevant Packages (0%)"
   ],
   "metadata": {
    "collapsed": false
   }
  },
  {
   "cell_type": "code",
   "execution_count": 32,
   "metadata": {
    "collapsed": false,
    "jupyter": {
     "outputs_hidden": false
    }
   },
   "outputs": [],
   "source": [
    "# Web Scraping Libraries\n",
    "from bs4 import BeautifulSoup  # for scraping\n",
    "import requests  # for sending HTTP requests\n",
    "# Data Processing Libraries\n",
    "import csv\n",
    "import re\n",
    "import pandas as pd\n",
    "import numpy as np\n",
    "import matplotlib.pyplot as plt\n",
    "import seaborn as sns"
   ]
  },
  {
   "cell_type": "markdown",
   "metadata": {},
   "source": [
    "Step 1: Crawl a Real World Data Set (2%)"
   ]
  },
  {
   "cell_type": "code",
   "execution_count": 3,
   "outputs": [],
   "source": [
    "url = \"https://www.worldometers.info/coronavirus/#main_table\"  # Web address of data\n",
    "response = requests.get(url)  # Performing a get request for the data at the url location\n",
    "soup_object = BeautifulSoup(response.content)  # Parsing the request response to create a soup_object that can be searched for a table\n",
    "covid_table = soup_object.find(\"table\")  # Searching the soup_object for a table\n",
    "\n",
    "with open(\"Live_Covid_Data.csv\", \"w\", newline=\"\") as csv_file:  # Opening a CSV file to be written into\n",
    "    writer = csv.writer(csv_file)  # Defining the writer as a csv writer that writes to the opened file\n",
    "\n",
    "    for row in covid_table.find_all(\"tr\"):  # Iterate through the rows of the table, \"tr\" points to a row in the table\n",
    "        cells = row.find_all(\"td\")  # Get the cells in the row, \"td\" points to a cell in the row\n",
    "\n",
    "        if cells:  # If there are cells...\n",
    "            values = [cell.text for cell in cells]  # Values is a list of values for each cell in the row of cells\n",
    "            writer.writerow(values)  # Write the values to the CSV\n"
   ],
   "metadata": {
    "collapsed": false
   }
  },
  {
   "cell_type": "markdown",
   "source": [
    "Step 2: Data Preparation and Cleaning (5%)"
   ],
   "metadata": {
    "collapsed": false
   }
  },
  {
   "cell_type": "code",
   "execution_count": 105,
   "metadata": {},
   "outputs": [
    {
     "name": "stdout",
     "output_type": "stream",
     "text": [
      "North America\n",
      "Asia\n",
      "Europe\n",
      "South America\n",
      "Australia/Oceania\n",
      "Africa\n",
      "World\n",
      "USA\n",
      "India\n",
      "France\n",
      "Germany\n",
      "Brazil\n",
      "Japan\n",
      "S. Korea\n",
      "Italy\n",
      "UK\n",
      "Russia\n",
      "Turkey\n",
      "Spain\n",
      "Vietnam\n",
      "Australia\n",
      "Argentina\n",
      "Taiwan\n",
      "Netherlands\n",
      "Iran\n",
      "Mexico\n",
      "Indonesia\n",
      "Poland\n",
      "Colombia\n",
      "Austria\n",
      "Portugal\n",
      "Greece\n",
      "Ukraine\n",
      "Malaysia\n",
      "Chile\n",
      "DPRK\n",
      "Israel\n",
      "Thailand\n",
      "Belgium\n",
      "Czechia\n",
      "Canada\n",
      "Peru\n",
      "Switzerland\n",
      "Philippines\n",
      "South Africa\n",
      "Romania\n",
      "Denmark\n",
      "Sweden\n",
      "Hong Kong\n",
      "Iraq\n",
      "Serbia\n",
      "Singapore\n",
      "Hungary\n",
      "New Zealand\n",
      "Bangladesh\n",
      "Slovakia\n",
      "Georgia\n",
      "Jordan\n",
      "Ireland\n",
      "Pakistan\n",
      "Norway\n",
      "Finland\n",
      "Kazakhstan\n",
      "Slovenia\n",
      "Bulgaria\n",
      "Lithuania\n",
      "Morocco\n",
      "Croatia\n",
      "Lebanon\n",
      "Guatemala\n",
      "Costa Rica\n",
      "Bolivia\n",
      "Tunisia\n",
      "Cuba\n",
      "UAE\n",
      "Ecuador\n",
      "Panama\n",
      "Uruguay\n",
      "Mongolia\n",
      "Nepal\n",
      "Belarus\n",
      "Latvia\n",
      "Saudi Arabia\n",
      "Azerbaijan\n",
      "Paraguay\n",
      "Bahrain\n",
      "Sri Lanka\n",
      "Kuwait\n",
      "Dominican Republic\n",
      "Myanmar\n",
      "Cyprus\n",
      "Palestine\n",
      "Estonia\n",
      "Moldova\n",
      "Venezuela\n",
      "Egypt\n",
      "Libya\n",
      "Ethiopia\n",
      "Qatar\n",
      "Réunion\n",
      "Honduras\n",
      "Armenia\n",
      "Bosnia and Herzegovina\n",
      "Oman\n",
      "North Macedonia\n",
      "Kenya\n",
      "Zambia\n",
      "Albania\n",
      "Botswana\n",
      "Luxembourg\n",
      "Montenegro\n",
      "Algeria\n",
      "Nigeria\n",
      "Brunei \n",
      "Zimbabwe\n",
      "Uzbekistan\n",
      "Mozambique\n",
      "Martinique\n",
      "Laos\n",
      "Iceland\n",
      "Afghanistan\n",
      "Kyrgyzstan\n",
      "El Salvador\n",
      "Guadeloupe\n",
      "Trinidad and Tobago\n",
      "Maldives\n",
      "Ghana\n",
      "Namibia\n",
      "Uganda\n",
      "Jamaica\n",
      "Cambodia\n",
      "Rwanda\n",
      "Cameroon\n",
      "Malta\n",
      "Angola\n",
      "Barbados\n",
      "Channel Islands\n",
      "French Guiana\n",
      "DRC\n",
      "Senegal\n",
      "Malawi\n",
      "Ivory Coast\n",
      "Suriname\n",
      "New Caledonia\n",
      "French Polynesia\n",
      "Eswatini\n",
      "Guyana\n",
      "Belize\n",
      "Fiji\n",
      "Madagascar\n",
      "Sudan\n",
      "Mauritania\n",
      "Cabo Verde\n",
      "Bhutan\n",
      "Syria\n",
      "Burundi\n",
      "Seychelles\n",
      "Gabon\n",
      "Andorra\n",
      "Papua New Guinea\n",
      "Curaçao\n",
      "Aruba\n",
      "Tanzania\n",
      "Mayotte\n",
      "Mauritius\n",
      "Togo\n",
      "Guinea\n",
      "Isle of Man\n",
      "Bahamas\n",
      "Faeroe Islands\n",
      "Lesotho\n",
      "Haiti\n",
      "Mali\n",
      "Cayman Islands\n",
      "Saint Lucia\n",
      "Benin\n",
      "Somalia\n",
      "Congo\n",
      "Solomon Islands\n",
      "Timor-Leste\n",
      "San Marino\n",
      "Micronesia\n",
      "Burkina Faso\n",
      "Liechtenstein\n",
      "Gibraltar\n",
      "Grenada\n",
      "Bermuda\n",
      "Nicaragua\n",
      "South Sudan\n",
      "Tajikistan\n",
      "Equatorial Guinea\n",
      "Tonga\n",
      "Samoa\n",
      "Monaco\n",
      "Dominica\n",
      "Djibouti\n",
      "Marshall Islands\n",
      "CAR\n",
      "Gambia\n",
      "Saint Martin\n",
      "Vanuatu\n",
      "Greenland\n",
      "Yemen\n",
      "Caribbean Netherlands\n",
      "Sint Maarten\n",
      "Eritrea\n",
      "Niger\n",
      "St. Vincent Grenadines\n",
      "Antigua and Barbuda\n",
      "Comoros\n",
      "Guinea-Bissau\n",
      "Liberia\n",
      "Sierra Leone\n",
      "Chad\n",
      "British Virgin Islands\n",
      "Saint Kitts and Nevis\n",
      "Turks and Caicos\n",
      "Cook Islands\n",
      "Sao Tome and Principe\n",
      "Palau\n",
      "St. Barth\n",
      "Nauru\n",
      "Anguilla\n",
      "Kiribati\n",
      "Saint Pierre Miquelon\n",
      "Tuvalu\n",
      "Falkland Islands\n",
      "Saint Helena\n",
      "Macao\n",
      "Montserrat\n",
      "Wallis and Futuna\n",
      "Niue\n",
      "Vatican City\n",
      "Western Sahara\n",
      "China\n"
     ]
    },
    {
     "data": {
      "text/plain": "                     Population  Total Cases  \\\nCountry                                        \nNorth America      5.981409e+08  121262081.0   \nAsia               4.711357e+09  206595856.0   \nEurope             7.475438e+08  242719800.0   \nSouth America      4.376944e+08   66758003.0   \nAustralia/Oceania  4.346903e+07   13582848.0   \n...                         ...          ...   \nWallis and Futuna  1.098200e+04        761.0   \nNiue               1.622000e+03        458.0   \nVatican City       7.990000e+02         29.0   \nWestern Sahara     6.261610e+05         10.0   \nChina              1.448471e+09     417615.0   \n\n                                           Total Deaths  Total Recovered  \\\nCountry                                                                    \nNorth America                                   1578160      116064929.0   \nAsia                                            1511157      193360313.0   \nEurope                                          1980119      236784979.0   \nSouth America                                   1341406       64253133.0   \nAustralia/Oceania                                 23298       13232703.0   \n...                                                 ...              ...   \nWallis and Futuna     7                                            438.0   \nNiue                                                               290.0   \nVatican City                                                        29.0   \nWestern Sahara        1                                              9.0   \nChina              5246                                         357097.0   \n\n                   Active Cases  Critical Cases  Total Cases / 1M People  \\\nCountry                                                                    \nNorth America         3618992.0          9463.0                      NaN   \nAsia                 11724386.0         11331.0                      NaN   \nEurope                3954702.0          7569.0                      NaN   \nSouth America         1163464.0         10341.0                      NaN   \nAustralia/Oceania      326847.0           161.0                      NaN   \n...                         ...             ...                      ...   \nWallis and Futuna         316.0             NaN                  69295.0   \nNiue                      168.0             NaN                 282367.0   \nVatican City                0.0             NaN                  36295.0   \nWestern Sahara              0.0             NaN                     16.0   \nChina                   55272.0          1611.0                    288.0   \n\n                   Total Deaths / 1M People  Total Tests  \\\nCountry                                                    \nNorth America                           NaN          NaN   \nAsia                                    NaN          NaN   \nEurope                                  NaN          NaN   \nSouth America                           NaN          NaN   \nAustralia/Oceania                       NaN          NaN   \n...                                     ...          ...   \nWallis and Futuna                     637.0      20508.0   \nNiue                                    NaN          NaN   \nVatican City                            NaN          NaN   \nWestern Sahara                          2.0          NaN   \nChina                                   4.0  160000000.0   \n\n                   Total Tests / 1M People          Continent  \\\nCountry                                                         \nNorth America                          NaN      North America   \nAsia                                   NaN               Asia   \nEurope                                 NaN             Europe   \nSouth America                          NaN      South America   \nAustralia/Oceania                      NaN  Australia/Oceania   \n...                                    ...                ...   \nWallis and Futuna                1867419.0  Australia/Oceania   \nNiue                                   NaN  Australia/Oceania   \nVatican City                           NaN             Europe   \nWestern Sahara                         NaN             Africa   \nChina                             110461.0               Asia   \n\n                  One Case / n People  One Death / n People  \\\nCountry                                                       \nNorth America                      \\n                   NaN   \nAsia                               \\n                   NaN   \nEurope                             \\n                   NaN   \nSouth America                      \\n                   NaN   \nAustralia/Oceania                  \\n                   NaN   \n...                               ...                   ...   \nWallis and Futuna                  14                1569.0   \nNiue                                4                   NaN   \nVatican City                       28                   NaN   \nWestern Sahara                  62616              626161.0   \nChina                            3468              276110.0   \n\n                   One Test / n People  Active Cases / 1M People  \nCountry                                                           \nNorth America                      NaN                       NaN  \nAsia                               NaN                       NaN  \nEurope                             NaN                       NaN  \nSouth America                      NaN                       NaN  \nAustralia/Oceania                  NaN                       NaN  \n...                                ...                       ...  \nWallis and Futuna                  1.0                   28774.0  \nNiue                               NaN                  103576.0  \nVatican City                       NaN                       NaN  \nWestern Sahara                     NaN                       NaN  \nChina                              9.0                      38.0  \n\n[235 rows x 15 columns]",
      "text/html": "<div>\n<style scoped>\n    .dataframe tbody tr th:only-of-type {\n        vertical-align: middle;\n    }\n\n    .dataframe tbody tr th {\n        vertical-align: top;\n    }\n\n    .dataframe thead th {\n        text-align: right;\n    }\n</style>\n<table border=\"1\" class=\"dataframe\">\n  <thead>\n    <tr style=\"text-align: right;\">\n      <th></th>\n      <th>Population</th>\n      <th>Total Cases</th>\n      <th>Total Deaths</th>\n      <th>Total Recovered</th>\n      <th>Active Cases</th>\n      <th>Critical Cases</th>\n      <th>Total Cases / 1M People</th>\n      <th>Total Deaths / 1M People</th>\n      <th>Total Tests</th>\n      <th>Total Tests / 1M People</th>\n      <th>Continent</th>\n      <th>One Case / n People</th>\n      <th>One Death / n People</th>\n      <th>One Test / n People</th>\n      <th>Active Cases / 1M People</th>\n    </tr>\n    <tr>\n      <th>Country</th>\n      <th></th>\n      <th></th>\n      <th></th>\n      <th></th>\n      <th></th>\n      <th></th>\n      <th></th>\n      <th></th>\n      <th></th>\n      <th></th>\n      <th></th>\n      <th></th>\n      <th></th>\n      <th></th>\n      <th></th>\n    </tr>\n  </thead>\n  <tbody>\n    <tr>\n      <th>North America</th>\n      <td>5.981409e+08</td>\n      <td>121262081.0</td>\n      <td>1578160</td>\n      <td>116064929.0</td>\n      <td>3618992.0</td>\n      <td>9463.0</td>\n      <td>NaN</td>\n      <td>NaN</td>\n      <td>NaN</td>\n      <td>NaN</td>\n      <td>North America</td>\n      <td>\\n</td>\n      <td>NaN</td>\n      <td>NaN</td>\n      <td>NaN</td>\n    </tr>\n    <tr>\n      <th>Asia</th>\n      <td>4.711357e+09</td>\n      <td>206595856.0</td>\n      <td>1511157</td>\n      <td>193360313.0</td>\n      <td>11724386.0</td>\n      <td>11331.0</td>\n      <td>NaN</td>\n      <td>NaN</td>\n      <td>NaN</td>\n      <td>NaN</td>\n      <td>Asia</td>\n      <td>\\n</td>\n      <td>NaN</td>\n      <td>NaN</td>\n      <td>NaN</td>\n    </tr>\n    <tr>\n      <th>Europe</th>\n      <td>7.475438e+08</td>\n      <td>242719800.0</td>\n      <td>1980119</td>\n      <td>236784979.0</td>\n      <td>3954702.0</td>\n      <td>7569.0</td>\n      <td>NaN</td>\n      <td>NaN</td>\n      <td>NaN</td>\n      <td>NaN</td>\n      <td>Europe</td>\n      <td>\\n</td>\n      <td>NaN</td>\n      <td>NaN</td>\n      <td>NaN</td>\n    </tr>\n    <tr>\n      <th>South America</th>\n      <td>4.376944e+08</td>\n      <td>66758003.0</td>\n      <td>1341406</td>\n      <td>64253133.0</td>\n      <td>1163464.0</td>\n      <td>10341.0</td>\n      <td>NaN</td>\n      <td>NaN</td>\n      <td>NaN</td>\n      <td>NaN</td>\n      <td>South America</td>\n      <td>\\n</td>\n      <td>NaN</td>\n      <td>NaN</td>\n      <td>NaN</td>\n    </tr>\n    <tr>\n      <th>Australia/Oceania</th>\n      <td>4.346903e+07</td>\n      <td>13582848.0</td>\n      <td>23298</td>\n      <td>13232703.0</td>\n      <td>326847.0</td>\n      <td>161.0</td>\n      <td>NaN</td>\n      <td>NaN</td>\n      <td>NaN</td>\n      <td>NaN</td>\n      <td>Australia/Oceania</td>\n      <td>\\n</td>\n      <td>NaN</td>\n      <td>NaN</td>\n      <td>NaN</td>\n    </tr>\n    <tr>\n      <th>...</th>\n      <td>...</td>\n      <td>...</td>\n      <td>...</td>\n      <td>...</td>\n      <td>...</td>\n      <td>...</td>\n      <td>...</td>\n      <td>...</td>\n      <td>...</td>\n      <td>...</td>\n      <td>...</td>\n      <td>...</td>\n      <td>...</td>\n      <td>...</td>\n      <td>...</td>\n    </tr>\n    <tr>\n      <th>Wallis and Futuna</th>\n      <td>1.098200e+04</td>\n      <td>761.0</td>\n      <td>7</td>\n      <td>438.0</td>\n      <td>316.0</td>\n      <td>NaN</td>\n      <td>69295.0</td>\n      <td>637.0</td>\n      <td>20508.0</td>\n      <td>1867419.0</td>\n      <td>Australia/Oceania</td>\n      <td>14</td>\n      <td>1569.0</td>\n      <td>1.0</td>\n      <td>28774.0</td>\n    </tr>\n    <tr>\n      <th>Niue</th>\n      <td>1.622000e+03</td>\n      <td>458.0</td>\n      <td></td>\n      <td>290.0</td>\n      <td>168.0</td>\n      <td>NaN</td>\n      <td>282367.0</td>\n      <td>NaN</td>\n      <td>NaN</td>\n      <td>NaN</td>\n      <td>Australia/Oceania</td>\n      <td>4</td>\n      <td>NaN</td>\n      <td>NaN</td>\n      <td>103576.0</td>\n    </tr>\n    <tr>\n      <th>Vatican City</th>\n      <td>7.990000e+02</td>\n      <td>29.0</td>\n      <td></td>\n      <td>29.0</td>\n      <td>0.0</td>\n      <td>NaN</td>\n      <td>36295.0</td>\n      <td>NaN</td>\n      <td>NaN</td>\n      <td>NaN</td>\n      <td>Europe</td>\n      <td>28</td>\n      <td>NaN</td>\n      <td>NaN</td>\n      <td>NaN</td>\n    </tr>\n    <tr>\n      <th>Western Sahara</th>\n      <td>6.261610e+05</td>\n      <td>10.0</td>\n      <td>1</td>\n      <td>9.0</td>\n      <td>0.0</td>\n      <td>NaN</td>\n      <td>16.0</td>\n      <td>2.0</td>\n      <td>NaN</td>\n      <td>NaN</td>\n      <td>Africa</td>\n      <td>62616</td>\n      <td>626161.0</td>\n      <td>NaN</td>\n      <td>NaN</td>\n    </tr>\n    <tr>\n      <th>China</th>\n      <td>1.448471e+09</td>\n      <td>417615.0</td>\n      <td>5246</td>\n      <td>357097.0</td>\n      <td>55272.0</td>\n      <td>1611.0</td>\n      <td>288.0</td>\n      <td>4.0</td>\n      <td>160000000.0</td>\n      <td>110461.0</td>\n      <td>Asia</td>\n      <td>3468</td>\n      <td>276110.0</td>\n      <td>9.0</td>\n      <td>38.0</td>\n    </tr>\n  </tbody>\n</table>\n<p>235 rows × 15 columns</p>\n</div>"
     },
     "execution_count": 105,
     "metadata": {},
     "output_type": "execute_result"
    }
   ],
   "source": [
    "# Creating list of column names\n",
    "col_names = [\"Country\", \"Total Cases\", \"New Cases\", \"Total Deaths\", \"New Deaths\", \"Total Recovered\", \"New Recovered\", \"Active Cases\", \"Critical Cases\",\n",
    "             \"Total Cases / 1M People\", \"Total Deaths / 1M People\", \"Total Tests\", \"Total Tests / 1M People\", \"Population\", \"Continent\", \"One Case / n People\",\n",
    "             \"One Death / n People\", \"One Test / n People\", \"New Cases / 1M People\", \"New Deaths / 1M People\", \"Active Cases / 1M People\"]\n",
    "\n",
    "# Reading the csv to a dataframe with the column names specified, encoding with \"latin-1\" to get around \"utf-8\" decoding issue.\n",
    "df = pd.read_csv(\"Live_Covid_Data.csv\", names=col_names, header=None, encoding=\"latin-1\")\n",
    "\n",
    "# Tidying up the names of the continent by removing the \"\\n\"'s on it, i.e. \"\\nNorth America\\n\"\n",
    "old_continent_list = df.iloc[0:7][\"Country\"].tolist()  # Locating the continent names and putting them into a list\n",
    "new_continent_list = []  # Defining a list for the formatted continent names\n",
    "\n",
    "for old_continent in old_continent_list:  # Iterate through current continent names\n",
    "     new_continent = \"Antarctica\" if old_continent == \"\\n\\n\" else old_continent.replace(\"\\n\", \"\")  # Removing \\n from continent names/identifying Antarctica\n",
    "     if new_continent == \"Oceania\":  # In \"Continent\" column countries are assigned Australia/Oceania not just Oceania\n",
    "         new_continent = \"Australia/Oceania\"  # Renaming continent\n",
    "     new_continent_list.append(new_continent)  # Addding the renamed continenet to the new list\n",
    "\n",
    "# Changing the index to the name of the Country/Continent\n",
    "df.set_index(\"Country\", inplace=True)  # inplace=True updates the original datafram immediately\n",
    "\n",
    "# Changing the index name to the re-formatted continents. set_value has been depricated, also before setting the index as Country the continent rows had\n",
    "# an index of NaN so at[row, col] couldn't be used to assign values either. Therefore, application of the reformatted names had to after set_index was done.\n",
    "n = 0\n",
    "for new_continent in new_continent_list:  # Iterate through the new continent names\n",
    "    df.rename(index={old_continent_list[n]: new_continent}, inplace=True)  # Replace the old continent name with corresponding new continent name\n",
    "    n += 1\n",
    "\n",
    "# Moving country population to first column as it is important for comparison to total cases etc\n",
    "country_pop_col = df.pop(\"Population\")  # Removes the column from DF while saving it to a variable\n",
    "df.insert(0, \"Population\", country_pop_col)  # Replacing the column in first position using previously assigned variable\n",
    "\n",
    "# Removing non-ccountries/non-territories from the DF\n",
    "drop_list = [\"Diamond Princess\", \"MS Zaandam\", \"Total:\"]  # List of unwanted non-countries/non-territories\n",
    "for item in drop_list:  # Iterate through list\n",
    "    df.drop(index=item, axis=0, inplace=True)  # Permanently delete the corresponding row in place\n",
    "\n",
    "# Calculating the population of each continent and the world\n",
    "global_population = 0  # Defining global population as 0\n",
    "for continent in new_continent_list:  # iterate through the continents\n",
    "    # If a row has continent \"continent\" and is not the row for the continent itself, population is added to the corresponding list\n",
    "    population_list = df.loc[(df[\"Continent\"] == continent) & (df.index != continent), \"Population\"].tolist()\n",
    "    continent_population = 0  # Defining the continent's population as 0\n",
    "\n",
    "    for population in population_list:  # Iterate through all populations in the list\n",
    "        new_population = re.sub(\",\", \"\", population)  # Removing the commas from the strings seperating 1000's\n",
    "        continent_population += int(new_population)  # Adding the population to the continent populatuon\n",
    "\n",
    "    global_population += continent_population  # Adding the continent population to the global population\n",
    "    df.at[continent, \"Population\"] = continent_population  # Replacing the continents NaN population with the calculated population\n",
    "df.at[\"World\", \"Population\"] = global_population  # Replacing the world's NaN population with the calculated population\n",
    "\n",
    "# Dropping Antarctica\n",
    "df.drop(index=\"Antarctica\", axis=0, inplace=True)\n",
    "\n",
    "# Remove commas from all columns and convert all columns to floats while avoiding non-numeric data\n",
    "df = df.replace(\",\", \"\", regex=True)  # Removing commas from entire dataframe, regex=True automates searching and replacing\n",
    "for column in df:  # Iterate through all columns in the dataframe\n",
    "    try:  # Try the following experssion:\n",
    "        df[column] = df[column].astype(float)  # Convert the column to floats\n",
    "    except ValueError:  # If this error is caused, raise an exception for the Nan/string value\n",
    "        pass  # Skip the conversion if the column contains non-numeric data\n",
    "\n",
    "# Dropping columns with the format \"New...\" as \"New\" is ambiguous and not described on the website, they also contain a lot of NaN.\n",
    "for column in df:\n",
    "    if \"New\" in column:\n",
    "        df.drop(columns=column, inplace=True)\n",
    "\n",
    "# Handling missing values in the \"Total Deaths\" column\n",
    "for country in df.index:\n",
    "    print(country)\n",
    "    if df.loc[country, \"Total Deaths\"] == \"\":\n",
    "        df.at[country, \"Total Deaths\"] = np.nan\n",
    "\n",
    "df"
   ]
  },
  {
   "cell_type": "markdown",
   "source": [
    "Step 3: Exploratory Data Analysis (8%)"
   ],
   "metadata": {
    "collapsed": false
   }
  },
  {
   "cell_type": "code",
   "execution_count": null,
   "outputs": [],
   "source": [],
   "metadata": {
    "collapsed": false
   }
  },
  {
   "cell_type": "markdown",
   "source": [
    "Step 4a: Question 1 (10%)"
   ],
   "metadata": {
    "collapsed": false
   }
  },
  {
   "cell_type": "code",
   "execution_count": 31,
   "outputs": [],
   "source": [],
   "metadata": {
    "collapsed": false
   }
  },
  {
   "cell_type": "markdown",
   "source": [
    "Step 4b: Question 2 (10%)"
   ],
   "metadata": {
    "collapsed": false
   }
  },
  {
   "cell_type": "code",
   "execution_count": null,
   "outputs": [],
   "source": [],
   "metadata": {
    "collapsed": false
   }
  },
  {
   "cell_type": "markdown",
   "source": [
    "Step 4c: Question 3 (10%)"
   ],
   "metadata": {
    "collapsed": false
   }
  },
  {
   "cell_type": "code",
   "execution_count": null,
   "outputs": [],
   "source": [],
   "metadata": {
    "collapsed": false
   }
  },
  {
   "cell_type": "markdown",
   "source": [
    "Step 5: Summary and Conclusion (5%)"
   ],
   "metadata": {
    "collapsed": false
   }
  },
  {
   "cell_type": "markdown",
   "source": [
    "Write summary/conc in here"
   ],
   "metadata": {
    "collapsed": false
   }
  }
 ],
 "metadata": {
  "kernelspec": {
   "display_name": "Python 3 (ipykernel)",
   "language": "python",
   "name": "python3"
  },
  "language_info": {
   "codemirror_mode": {
    "name": "ipython",
    "version": 3
   },
   "file_extension": ".py",
   "mimetype": "text/x-python",
   "name": "python",
   "nbconvert_exporter": "python",
   "pygments_lexer": "ipython3",
   "version": "3.9.12"
  }
 },
 "nbformat": 4,
 "nbformat_minor": 4
}
