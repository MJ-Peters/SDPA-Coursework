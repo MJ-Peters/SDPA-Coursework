{
 "cells": [
  {
   "cell_type": "markdown",
   "source": [
    "Step 0: Importing Relevant Packages (0%)"
   ],
   "metadata": {
    "collapsed": false
   }
  },
  {
   "cell_type": "code",
   "execution_count": 142,
   "metadata": {
    "collapsed": false,
    "jupyter": {
     "outputs_hidden": false
    }
   },
   "outputs": [],
   "source": [
    "import math\n",
    "\n",
    "# Web Scraping Libraries\n",
    "from bs4 import BeautifulSoup  # for scraping\n",
    "import requests  # for sending HTTP requests\n",
    "# Data Processing Libraries\n",
    "import csv\n",
    "import re\n",
    "import math\n",
    "import pandas as pd\n",
    "import numpy as np\n",
    "import matplotlib.pyplot as plt\n",
    "import seaborn as sns"
   ]
  },
  {
   "cell_type": "markdown",
   "metadata": {},
   "source": [
    "Step 1: Crawl a Real World Data Set (2%)"
   ]
  },
  {
   "cell_type": "code",
   "execution_count": 3,
   "outputs": [],
   "source": [
    "url = \"https://www.worldometers.info/coronavirus/#main_table\"  # Web address of data\n",
    "response = requests.get(url)  # Performing a get request for the data at the url location\n",
    "soup_object = BeautifulSoup(response.content)  # Parsing the request response to create a soup_object that can be searched for a table\n",
    "covid_table = soup_object.find(\"table\")  # Searching the soup_object for a table\n",
    "\n",
    "with open(\"Live_Covid_Data.csv\", \"w\", newline=\"\") as csv_file:  # Opening a CSV file to be written into\n",
    "    writer = csv.writer(csv_file)  # Defining the writer as a csv writer that writes to the opened file\n",
    "\n",
    "    for row in covid_table.find_all(\"tr\"):  # Iterate through the rows of the table, \"tr\" points to a row in the table\n",
    "        cells = row.find_all(\"td\")  # Get the cells in the row, \"td\" points to a cell in the row\n",
    "\n",
    "        if cells:  # If there are cells...\n",
    "            values = [cell.text for cell in cells]  # Values is a list of values for each cell in the row of cells\n",
    "            writer.writerow(values)  # Write the values to the CSV\n"
   ],
   "metadata": {
    "collapsed": false
   }
  },
  {
   "cell_type": "markdown",
   "source": [
    "Step 2: Data Preparation and Cleaning (5%)"
   ],
   "metadata": {
    "collapsed": false
   }
  },
  {
   "cell_type": "code",
   "execution_count": 163,
   "metadata": {},
   "outputs": [
    {
     "data": {
      "text/plain": "                     Population  Total Cases  Total Deaths  Total Recovered  \\\nCountry                                                                       \nNorth America      5.981409e+08  121262081.0     1578160.0      116064929.0   \nAsia               4.711357e+09  206595856.0     1511157.0      193360313.0   \nEurope             7.475438e+08  242719800.0     1980119.0      236784979.0   \nSouth America      4.376944e+08   66758003.0     1341406.0       64253133.0   \nAustralia/Oceania  4.346903e+07   13582848.0       23298.0       13232703.0   \n...                         ...          ...           ...              ...   \nWallis and Futuna  1.098200e+04        761.0           7.0            438.0   \nNiue               1.622000e+03        458.0           NaN            290.0   \nVatican City       7.990000e+02         29.0           NaN             29.0   \nWestern Sahara     6.261610e+05         10.0           1.0              9.0   \nChina              1.448471e+09     417615.0        5246.0         357097.0   \n\n                   Active Cases  Critical Cases  Total Cases / 1M People  \\\nCountry                                                                    \nNorth America         3618992.0          9463.0            202731.626873   \nAsia                 11724386.0         11331.0             43850.607270   \nEurope                3954702.0          7569.0            324689.721173   \nSouth America         1163464.0         10341.0            152521.934120   \nAustralia/Oceania      326847.0           161.0            312471.844897   \n...                         ...             ...                      ...   \nWallis and Futuna         316.0             NaN             69295.210344   \nNiue                      168.0             NaN            282367.447596   \nVatican City                0.0             NaN             36295.369212   \nWestern Sahara              0.0             NaN                15.970334   \nChina                   55272.0          1611.0               288.314288   \n\n                   Total Deaths / 1M People   Total Tests  \\\nCountry                                                     \nNorth America                   2638.441808  1.287296e+09   \nAsia                             320.747731  2.347482e+09   \nEurope                          2648.833288  2.806845e+09   \nSouth America                   3064.708774  2.408934e+08   \nAustralia/Oceania                535.967791  8.844942e+07   \n...                                     ...           ...   \nWallis and Futuna                637.406665  2.050800e+04   \nNiue                                    NaN           NaN   \nVatican City                            NaN           NaN   \nWestern Sahara                     1.597033           NaN   \nChina                              3.621749  1.600000e+08   \n\n                   Total Tests / 1M People          Continent  \\\nCountry                                                         \nNorth America                 2.152162e+06      North America   \nAsia                          4.982603e+05               Asia   \nEurope                        3.754756e+06             Europe   \nSouth America                 5.503688e+05      South America   \nAustralia/Oceania             2.034769e+06  Australia/Oceania   \n...                                    ...                ...   \nWallis and Futuna             1.867419e+06  Australia/Oceania   \nNiue                                   NaN  Australia/Oceania   \nVatican City                           NaN             Europe   \nWestern Sahara                         NaN             Africa   \nChina                         1.104613e+05               Asia   \n\n                   One Case / n People  One Death / n People  \\\nCountry                                                        \nNorth America                 4.932629            379.011581   \nAsia                         22.804701           3117.714958   \nEurope                        3.079863            377.524703   \nSouth America                 6.556434            326.295277   \nAustralia/Oceania             3.200288           1865.783758   \n...                                ...                   ...   \nWallis and Futuna            14.431012           1568.857143   \nNiue                          3.541485                   NaN   \nVatican City                 27.551724                   NaN   \nWestern Sahara            62616.100000         626161.000000   \nChina                      3468.437197         276109.683568   \n\n                   One Test / n People  Active Cases / 1M People  \nCountry                                                           \nNorth America                 0.464649               6050.400337  \nAsia                          2.006983               2488.537069  \nEurope                        0.266329               5290.260991  \nSouth America                 1.816964               2658.164888  \nAustralia/Oceania             0.491456               7519.077375  \n...                                ...                       ...  \nWallis and Futuna             0.535498              28774.358040  \nNiue                               NaN             103575.832306  \nVatican City                       NaN                  0.000000  \nWestern Sahara                     NaN                  0.000000  \nChina                         9.052946                 38.158848  \n\n[235 rows x 15 columns]",
      "text/html": "<div>\n<style scoped>\n    .dataframe tbody tr th:only-of-type {\n        vertical-align: middle;\n    }\n\n    .dataframe tbody tr th {\n        vertical-align: top;\n    }\n\n    .dataframe thead th {\n        text-align: right;\n    }\n</style>\n<table border=\"1\" class=\"dataframe\">\n  <thead>\n    <tr style=\"text-align: right;\">\n      <th></th>\n      <th>Population</th>\n      <th>Total Cases</th>\n      <th>Total Deaths</th>\n      <th>Total Recovered</th>\n      <th>Active Cases</th>\n      <th>Critical Cases</th>\n      <th>Total Cases / 1M People</th>\n      <th>Total Deaths / 1M People</th>\n      <th>Total Tests</th>\n      <th>Total Tests / 1M People</th>\n      <th>Continent</th>\n      <th>One Case / n People</th>\n      <th>One Death / n People</th>\n      <th>One Test / n People</th>\n      <th>Active Cases / 1M People</th>\n    </tr>\n    <tr>\n      <th>Country</th>\n      <th></th>\n      <th></th>\n      <th></th>\n      <th></th>\n      <th></th>\n      <th></th>\n      <th></th>\n      <th></th>\n      <th></th>\n      <th></th>\n      <th></th>\n      <th></th>\n      <th></th>\n      <th></th>\n      <th></th>\n    </tr>\n  </thead>\n  <tbody>\n    <tr>\n      <th>North America</th>\n      <td>5.981409e+08</td>\n      <td>121262081.0</td>\n      <td>1578160.0</td>\n      <td>116064929.0</td>\n      <td>3618992.0</td>\n      <td>9463.0</td>\n      <td>202731.626873</td>\n      <td>2638.441808</td>\n      <td>1.287296e+09</td>\n      <td>2.152162e+06</td>\n      <td>North America</td>\n      <td>4.932629</td>\n      <td>379.011581</td>\n      <td>0.464649</td>\n      <td>6050.400337</td>\n    </tr>\n    <tr>\n      <th>Asia</th>\n      <td>4.711357e+09</td>\n      <td>206595856.0</td>\n      <td>1511157.0</td>\n      <td>193360313.0</td>\n      <td>11724386.0</td>\n      <td>11331.0</td>\n      <td>43850.607270</td>\n      <td>320.747731</td>\n      <td>2.347482e+09</td>\n      <td>4.982603e+05</td>\n      <td>Asia</td>\n      <td>22.804701</td>\n      <td>3117.714958</td>\n      <td>2.006983</td>\n      <td>2488.537069</td>\n    </tr>\n    <tr>\n      <th>Europe</th>\n      <td>7.475438e+08</td>\n      <td>242719800.0</td>\n      <td>1980119.0</td>\n      <td>236784979.0</td>\n      <td>3954702.0</td>\n      <td>7569.0</td>\n      <td>324689.721173</td>\n      <td>2648.833288</td>\n      <td>2.806845e+09</td>\n      <td>3.754756e+06</td>\n      <td>Europe</td>\n      <td>3.079863</td>\n      <td>377.524703</td>\n      <td>0.266329</td>\n      <td>5290.260991</td>\n    </tr>\n    <tr>\n      <th>South America</th>\n      <td>4.376944e+08</td>\n      <td>66758003.0</td>\n      <td>1341406.0</td>\n      <td>64253133.0</td>\n      <td>1163464.0</td>\n      <td>10341.0</td>\n      <td>152521.934120</td>\n      <td>3064.708774</td>\n      <td>2.408934e+08</td>\n      <td>5.503688e+05</td>\n      <td>South America</td>\n      <td>6.556434</td>\n      <td>326.295277</td>\n      <td>1.816964</td>\n      <td>2658.164888</td>\n    </tr>\n    <tr>\n      <th>Australia/Oceania</th>\n      <td>4.346903e+07</td>\n      <td>13582848.0</td>\n      <td>23298.0</td>\n      <td>13232703.0</td>\n      <td>326847.0</td>\n      <td>161.0</td>\n      <td>312471.844897</td>\n      <td>535.967791</td>\n      <td>8.844942e+07</td>\n      <td>2.034769e+06</td>\n      <td>Australia/Oceania</td>\n      <td>3.200288</td>\n      <td>1865.783758</td>\n      <td>0.491456</td>\n      <td>7519.077375</td>\n    </tr>\n    <tr>\n      <th>...</th>\n      <td>...</td>\n      <td>...</td>\n      <td>...</td>\n      <td>...</td>\n      <td>...</td>\n      <td>...</td>\n      <td>...</td>\n      <td>...</td>\n      <td>...</td>\n      <td>...</td>\n      <td>...</td>\n      <td>...</td>\n      <td>...</td>\n      <td>...</td>\n      <td>...</td>\n    </tr>\n    <tr>\n      <th>Wallis and Futuna</th>\n      <td>1.098200e+04</td>\n      <td>761.0</td>\n      <td>7.0</td>\n      <td>438.0</td>\n      <td>316.0</td>\n      <td>NaN</td>\n      <td>69295.210344</td>\n      <td>637.406665</td>\n      <td>2.050800e+04</td>\n      <td>1.867419e+06</td>\n      <td>Australia/Oceania</td>\n      <td>14.431012</td>\n      <td>1568.857143</td>\n      <td>0.535498</td>\n      <td>28774.358040</td>\n    </tr>\n    <tr>\n      <th>Niue</th>\n      <td>1.622000e+03</td>\n      <td>458.0</td>\n      <td>NaN</td>\n      <td>290.0</td>\n      <td>168.0</td>\n      <td>NaN</td>\n      <td>282367.447596</td>\n      <td>NaN</td>\n      <td>NaN</td>\n      <td>NaN</td>\n      <td>Australia/Oceania</td>\n      <td>3.541485</td>\n      <td>NaN</td>\n      <td>NaN</td>\n      <td>103575.832306</td>\n    </tr>\n    <tr>\n      <th>Vatican City</th>\n      <td>7.990000e+02</td>\n      <td>29.0</td>\n      <td>NaN</td>\n      <td>29.0</td>\n      <td>0.0</td>\n      <td>NaN</td>\n      <td>36295.369212</td>\n      <td>NaN</td>\n      <td>NaN</td>\n      <td>NaN</td>\n      <td>Europe</td>\n      <td>27.551724</td>\n      <td>NaN</td>\n      <td>NaN</td>\n      <td>0.000000</td>\n    </tr>\n    <tr>\n      <th>Western Sahara</th>\n      <td>6.261610e+05</td>\n      <td>10.0</td>\n      <td>1.0</td>\n      <td>9.0</td>\n      <td>0.0</td>\n      <td>NaN</td>\n      <td>15.970334</td>\n      <td>1.597033</td>\n      <td>NaN</td>\n      <td>NaN</td>\n      <td>Africa</td>\n      <td>62616.100000</td>\n      <td>626161.000000</td>\n      <td>NaN</td>\n      <td>0.000000</td>\n    </tr>\n    <tr>\n      <th>China</th>\n      <td>1.448471e+09</td>\n      <td>417615.0</td>\n      <td>5246.0</td>\n      <td>357097.0</td>\n      <td>55272.0</td>\n      <td>1611.0</td>\n      <td>288.314288</td>\n      <td>3.621749</td>\n      <td>1.600000e+08</td>\n      <td>1.104613e+05</td>\n      <td>Asia</td>\n      <td>3468.437197</td>\n      <td>276109.683568</td>\n      <td>9.052946</td>\n      <td>38.158848</td>\n    </tr>\n  </tbody>\n</table>\n<p>235 rows × 15 columns</p>\n</div>"
     },
     "execution_count": 163,
     "metadata": {},
     "output_type": "execute_result"
    }
   ],
   "source": [
    "# Creating list of column names\n",
    "col_names = [\"Country\", \"Total Cases\", \"New Cases\", \"Total Deaths\", \"New Deaths\", \"Total Recovered\", \"New Recovered\", \"Active Cases\", \"Critical Cases\",\n",
    "             \"Total Cases / 1M People\", \"Total Deaths / 1M People\", \"Total Tests\", \"Total Tests / 1M People\", \"Population\", \"Continent\", \"One Case / n People\",\n",
    "             \"One Death / n People\", \"One Test / n People\", \"New Cases / 1M People\", \"New Deaths / 1M People\", \"Active Cases / 1M People\"]\n",
    "\n",
    "# Reading the csv to a dataframe with the column names specified, encoding with \"latin-1\" to get around \"utf-8\" decoding issue.\n",
    "df = pd.read_csv(\"Live_Covid_Data.csv\", names=col_names, header=None, encoding=\"latin-1\")\n",
    "\n",
    "# Tidying up the names of the continent by removing the \"\\n\"'s on it, i.e. \"\\nNorth America\\n\"\n",
    "old_continent_list = df.iloc[0:7][\"Country\"].tolist()  # Locating the continent names and putting them into a list\n",
    "new_continent_list = []  # Defining a list for the formatted continent names\n",
    "\n",
    "for old_continent in old_continent_list:  # Iterate through current continent names\n",
    "     new_continent = \"Antarctica\" if old_continent == \"\\n\\n\" else old_continent.replace(\"\\n\", \"\")  # Removing \\n from continent names/identifying Antarctica\n",
    "     if new_continent == \"Oceania\":  # In \"Continent\" column countries are assigned Australia/Oceania not just Oceania\n",
    "         new_continent = \"Australia/Oceania\"  # Renaming continent\n",
    "     new_continent_list.append(new_continent)  # Addding the renamed continenet to the new list\n",
    "\n",
    "# Changing the index to the name of the Country/Continent\n",
    "df.set_index(\"Country\", inplace=True)  # inplace=True updates the original datafram immediately\n",
    "\n",
    "# Changing the index name to the re-formatted continents. set_value has been depricated, also before setting the index as Country the continent rows had\n",
    "# an index of NaN so at[row, col] couldn't be used to assign values either. Therefore, application of the reformatted names had to after set_index was done.\n",
    "n = 0\n",
    "for new_continent in new_continent_list:  # Iterate through the new continent names\n",
    "    df.rename(index={old_continent_list[n]: new_continent}, inplace=True)  # Replace the old continent name with corresponding new continent name\n",
    "    n += 1\n",
    "\n",
    "# Moving country population to first column as it is important for comparison to total cases etc\n",
    "country_pop_col = df.pop(\"Population\")  # Removes the column from DF while saving it to a variable\n",
    "df.insert(0, \"Population\", country_pop_col)  # Replacing the column in first position using previously assigned variable\n",
    "\n",
    "# Removing non-ccountries/non-territories from the DF\n",
    "drop_list = [\"Diamond Princess\", \"MS Zaandam\", \"Total:\"]  # List of unwanted non-countries/non-territories\n",
    "for item in drop_list:  # Iterate through list\n",
    "    df.drop(index=item, axis=0, inplace=True)  # Permanently delete the corresponding row in place\n",
    "\n",
    "# Calculating the population of each continent and the world\n",
    "global_population = 0  # Defining global population as 0\n",
    "for continent in new_continent_list:  # iterate through the continents\n",
    "    # If a row has continent \"continent\" and is not the row for the continent itself, population is added to the corresponding list\n",
    "    population_list = df.loc[(df[\"Continent\"] == continent) & (df.index != continent), \"Population\"].tolist()\n",
    "    continent_population = 0  # Defining the continent's population as 0\n",
    "\n",
    "    for population in population_list:  # Iterate through all populations in the list\n",
    "        new_population = re.sub(\",\", \"\", population)  # Removing the commas from the strings seperating 1000's\n",
    "        continent_population += int(new_population)  # Adding the population to the continent populatuon\n",
    "\n",
    "    global_population += continent_population  # Adding the continent population to the global population\n",
    "    df.at[continent, \"Population\"] = continent_population  # Replacing the continents NaN population with the calculated population\n",
    "df.at[\"World\", \"Population\"] = global_population  # Replacing the world's NaN population with the calculated population\n",
    "\n",
    "# Dropping Antarctica as its data is not useful\n",
    "df.drop(index=\"Antarctica\", axis=0, inplace=True)\n",
    "\n",
    "# Handling missing values\n",
    "df = df.replace(r\"^\\s*$\", np.nan, regex=True)\n",
    "\n",
    "# Remove commas from all columns and convert all columns to floats while avoiding non-numeric data\n",
    "df = df.replace(\",\", \"\", regex=True)  # Removing commas from entire dataframe, regex=True automates searching and replacing\n",
    "for column in df:  # Iterate through all columns in the dataframe\n",
    "    try:  # Try the following experssion:\n",
    "        df[column] = df[column].astype(float)  # Convert the column to floats\n",
    "    except ValueError:  # If this error is caused, raise an exception for the Nan/string value\n",
    "        pass  # Skip the conversion if the column contains non-numeric data\n",
    "\n",
    "# Dropping columns with the format \"New...\" as \"New\" is ambiguous and not described on the website, they also contain a lot of NaN.\n",
    "for column in df:\n",
    "    if \"New\" in column:\n",
    "        df.drop(columns=column, inplace=True)\n",
    "\n",
    "# Calculating the total tests taken in each continent\n",
    "global_total_tests = 0  # Defining the global total as 0\n",
    "for continent in new_continent_list[:-1]:  # Iterating through continents, except antarctica\n",
    "    continent_total_tests = 0  # Defining the continent total as 0\n",
    "    test_list = df.loc[(df[\"Continent\"] == continent) & (df.index != continent), \"Total Tests\"].tolist()  # Adding all test numbers to a list\n",
    "    clean_test_list = [x for x in test_list if (math.isnan(x) == False)]  # Removing nan values from the list\n",
    "    continent_total_tests = sum(clean_test_list)  # Summing all the values in the list\n",
    "    global_total_tests += continent_total_tests  # Adding the continent total to the global total\n",
    "    df.at[continent, \"Total Tests\"] = continent_total_tests  # Reassigning the continent total tests value to new calculated value\n",
    "df.at[\"World\", \"Total Tests\"] = global_total_tests  # Reassign global test total after for loop has completed\n",
    "\n",
    "# Recalculating X/1M based on the live data from other columns where x = Total Cases, Total Deaths, Total Tests, Active Cases\n",
    "for column in df:  # Iterate through columns in the DF\n",
    "    if \"1M People\" in column:  # Checking if the column is a target for recalculation\n",
    "        reduced_column = column.replace(\" / 1M People\", \"\")  # Formulating the column from which x/1M column will be calculated\n",
    "        df[column] = (df[reduced_column] / df[\"Population\"]) * 1000000  # Recalculating column\n",
    "\n",
    "# Recalculating how many people there where per one case/death/test\n",
    "df[\"One Case / n People\"] = df[\"Population\"] / df[\"Total Cases\"]\n",
    "df[\"One Death / n People\"] = df[\"Population\"] / df[\"Total Deaths\"]\n",
    "df[\"One Test / n People\"] = df[\"Population\"] / df[\"Total Tests\"]\n",
    "\n",
    "df"
   ]
  },
  {
   "cell_type": "markdown",
   "source": [
    "Step 3: Exploratory Data Analysis (8%)"
   ],
   "metadata": {
    "collapsed": false
   }
  },
  {
   "cell_type": "code",
   "execution_count": null,
   "outputs": [],
   "source": [],
   "metadata": {
    "collapsed": false
   }
  },
  {
   "cell_type": "markdown",
   "source": [
    "Step 4a: Question 1 (10%)"
   ],
   "metadata": {
    "collapsed": false
   }
  },
  {
   "cell_type": "code",
   "execution_count": 31,
   "outputs": [],
   "source": [],
   "metadata": {
    "collapsed": false
   }
  },
  {
   "cell_type": "markdown",
   "source": [
    "Step 4b: Question 2 (10%)"
   ],
   "metadata": {
    "collapsed": false
   }
  },
  {
   "cell_type": "code",
   "execution_count": null,
   "outputs": [],
   "source": [],
   "metadata": {
    "collapsed": false
   }
  },
  {
   "cell_type": "markdown",
   "source": [
    "Step 4c: Question 3 (10%)"
   ],
   "metadata": {
    "collapsed": false
   }
  },
  {
   "cell_type": "code",
   "execution_count": null,
   "outputs": [],
   "source": [],
   "metadata": {
    "collapsed": false
   }
  },
  {
   "cell_type": "markdown",
   "source": [
    "Step 5: Summary and Conclusion (5%)"
   ],
   "metadata": {
    "collapsed": false
   }
  },
  {
   "cell_type": "markdown",
   "source": [
    "Write summary/conc in here"
   ],
   "metadata": {
    "collapsed": false
   }
  }
 ],
 "metadata": {
  "kernelspec": {
   "display_name": "Python 3 (ipykernel)",
   "language": "python",
   "name": "python3"
  },
  "language_info": {
   "codemirror_mode": {
    "name": "ipython",
    "version": 3
   },
   "file_extension": ".py",
   "mimetype": "text/x-python",
   "name": "python",
   "nbconvert_exporter": "python",
   "pygments_lexer": "ipython3",
   "version": "3.9.12"
  }
 },
 "nbformat": 4,
 "nbformat_minor": 4
}
