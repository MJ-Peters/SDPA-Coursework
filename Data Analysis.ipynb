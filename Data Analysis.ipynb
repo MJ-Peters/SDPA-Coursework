{
 "cells": [
  {
   "cell_type": "markdown",
   "source": [
    "Step 0: Importing Relevant Packages (0%)"
   ],
   "metadata": {
    "collapsed": false
   }
  },
  {
   "cell_type": "code",
   "execution_count": 1,
   "metadata": {
    "collapsed": false,
    "jupyter": {
     "outputs_hidden": false
    }
   },
   "outputs": [],
   "source": [
    "import math\n",
    "\n",
    "# Web Scraping Libraries\n",
    "from bs4 import BeautifulSoup  # for scraping\n",
    "import requests  # for sending HTTP requests\n",
    "# Data Processing Libraries\n",
    "import csv\n",
    "import re\n",
    "import math\n",
    "import pandas as pd\n",
    "import numpy as np\n",
    "import matplotlib.pyplot as plt\n",
    "import seaborn as sns"
   ]
  },
  {
   "cell_type": "markdown",
   "metadata": {},
   "source": [
    "Step 1: Crawl a Real World Data Set (2%)"
   ]
  },
  {
   "cell_type": "code",
   "execution_count": 169,
   "outputs": [],
   "source": [
    "url = \"https://www.worldometers.info/coronavirus/#main_table\"  # Web address of data\n",
    "response = requests.get(url)  # Performing a get request for the data at the url location\n",
    "soup_object = BeautifulSoup(response.content)  # Parsing the request response to create a soup_object that can be searched for a table\n",
    "covid_table = soup_object.find(\"table\")  # Searching the soup_object for a table\n",
    "\n",
    "with open(\"Live_Covid_Data.csv\", \"w\", newline=\"\") as csv_file:  # Opening a CSV file to be written into\n",
    "    writer = csv.writer(csv_file)  # Defining the writer as a csv writer that writes to the opened file\n",
    "\n",
    "    for row in covid_table.find_all(\"tr\"):  # Iterate through the rows of the table, \"tr\" points to a row in the table\n",
    "        cells = row.find_all(\"td\")  # Get the cells in the row, \"td\" points to a cell in the row\n",
    "\n",
    "        if cells:  # If there are cells...\n",
    "            values = [cell.text for cell in cells]  # Values is a list of values for each cell in the row of cells\n",
    "            writer.writerow(values)  # Write the values to the CSV\n"
   ],
   "metadata": {
    "collapsed": false
   }
  },
  {
   "cell_type": "markdown",
   "source": [
    "Step 2: Data Preparation and Cleaning (5%)"
   ],
   "metadata": {
    "collapsed": false
   }
  },
  {
   "cell_type": "code",
   "execution_count": 3,
   "metadata": {},
   "outputs": [
    {
     "data": {
      "text/plain": "                           Continent    Population  Total Cases  Total Deaths  \\\nCountry                                                                         \nNorth America          North America  5.981409e+08  121337450.0     1578727.0   \nAsia                            Asia  4.711357e+09  206878311.0     1511747.0   \nEurope                        Europe  7.475438e+08  242793984.0     1980561.0   \nSouth America          South America  4.376944e+08   66824087.0     1341748.0   \nAustralia/Oceania  Australia/Oceania  4.346903e+07   13626060.0       23363.0   \n...                              ...           ...          ...           ...   \nWallis and Futuna  Australia/Oceania  1.098200e+04        761.0           7.0   \nNiue               Australia/Oceania  1.622000e+03        483.0           NaN   \nVatican City                  Europe  7.990000e+02         29.0           NaN   \nWestern Sahara                Africa  6.261610e+05         10.0           1.0   \nChina                           Asia  1.448471e+09     423130.0        5247.0   \n\n                   Total Recovered  Active Cases  Critical Cases  \\\nCountry                                                            \nNorth America          116142918.0     3615805.0          9668.0   \nAsia                   193434481.0    11932083.0         11669.0   \nEurope                 236914861.0     3898562.0          7553.0   \nSouth America           64282682.0     1199657.0         10341.0   \nAustralia/Oceania       13343309.0      259388.0           176.0   \n...                            ...           ...             ...   \nWallis and Futuna            438.0         316.0             NaN   \nNiue                         320.0         163.0             NaN   \nVatican City                  29.0           0.0             NaN   \nWestern Sahara                 9.0           0.0             NaN   \nChina                     359383.0       58500.0          1966.0   \n\n                   Total Cases / 1M People  Total Deaths / 1M People  \\\nCountry                                                                \nNorth America                202857.632297               2639.389745   \nAsia                          43910.559214                320.872961   \nEurope                       324788.958162               2649.424558   \nSouth America                152672.916160               3065.490141   \nAustralia/Oceania            313465.931952                537.463109   \n...                                    ...                       ...   \nWallis and Futuna             69295.210344                637.406665   \nNiue                         297780.517879                       NaN   \nVatican City                  36295.369212                       NaN   \nWestern Sahara                   15.970334                  1.597033   \nChina                           292.121750                  3.622439   \n\n                    Total Tests  Total Tests / 1M People  One Case / n People  \\\nCountry                                                                         \nNorth America      1.287663e+09             2.152775e+06             4.929566   \nAsia               2.348238e+09             4.984208e+05            22.773566   \nEurope             2.806916e+09             3.754851e+06             3.078922   \nSouth America      2.409430e+08             5.504821e+05             6.549950   \nAustralia/Oceania  8.844942e+07             2.034769e+06             3.190139   \n...                         ...                      ...                  ...   \nWallis and Futuna  2.050800e+04             1.867419e+06            14.431012   \nNiue                        NaN                      NaN             3.358178   \nVatican City                NaN                      NaN            27.551724   \nWestern Sahara              NaN                      NaN         62616.100000   \nChina              1.600000e+08             1.104613e+05          3423.230213   \n\n                   One Death / n People  One Test / n People  \\\nCountry                                                        \nNorth America                378.875459             0.464517   \nAsia                        3116.498186             2.006337   \nEurope                       377.440451             0.266322   \nSouth America                326.212108             1.816589   \nAustralia/Oceania           1860.592818             0.491456   \n...                                 ...                  ...   \nWallis and Futuna           1568.857143             0.535498   \nNiue                                NaN                  NaN   \nVatican City                        NaN                  NaN   \nWestern Sahara            626161.000000                  NaN   \nChina                     276057.061178             9.052946   \n\n                   Active Cases / 1M People  \nCountry                                      \nNorth America                   6045.072162  \nAsia                            2532.621398  \nEurope                          5215.161716  \nSouth America                   2740.854994  \nAustralia/Oceania               5967.190894  \n...                                     ...  \nWallis and Futuna              28774.358040  \nNiue                          100493.218249  \nVatican City                       0.000000  \nWestern Sahara                     0.000000  \nChina                             40.387404  \n\n[235 rows x 15 columns]",
      "text/html": "<div>\n<style scoped>\n    .dataframe tbody tr th:only-of-type {\n        vertical-align: middle;\n    }\n\n    .dataframe tbody tr th {\n        vertical-align: top;\n    }\n\n    .dataframe thead th {\n        text-align: right;\n    }\n</style>\n<table border=\"1\" class=\"dataframe\">\n  <thead>\n    <tr style=\"text-align: right;\">\n      <th></th>\n      <th>Continent</th>\n      <th>Population</th>\n      <th>Total Cases</th>\n      <th>Total Deaths</th>\n      <th>Total Recovered</th>\n      <th>Active Cases</th>\n      <th>Critical Cases</th>\n      <th>Total Cases / 1M People</th>\n      <th>Total Deaths / 1M People</th>\n      <th>Total Tests</th>\n      <th>Total Tests / 1M People</th>\n      <th>One Case / n People</th>\n      <th>One Death / n People</th>\n      <th>One Test / n People</th>\n      <th>Active Cases / 1M People</th>\n    </tr>\n    <tr>\n      <th>Country</th>\n      <th></th>\n      <th></th>\n      <th></th>\n      <th></th>\n      <th></th>\n      <th></th>\n      <th></th>\n      <th></th>\n      <th></th>\n      <th></th>\n      <th></th>\n      <th></th>\n      <th></th>\n      <th></th>\n      <th></th>\n    </tr>\n  </thead>\n  <tbody>\n    <tr>\n      <th>North America</th>\n      <td>North America</td>\n      <td>5.981409e+08</td>\n      <td>121337450.0</td>\n      <td>1578727.0</td>\n      <td>116142918.0</td>\n      <td>3615805.0</td>\n      <td>9668.0</td>\n      <td>202857.632297</td>\n      <td>2639.389745</td>\n      <td>1.287663e+09</td>\n      <td>2.152775e+06</td>\n      <td>4.929566</td>\n      <td>378.875459</td>\n      <td>0.464517</td>\n      <td>6045.072162</td>\n    </tr>\n    <tr>\n      <th>Asia</th>\n      <td>Asia</td>\n      <td>4.711357e+09</td>\n      <td>206878311.0</td>\n      <td>1511747.0</td>\n      <td>193434481.0</td>\n      <td>11932083.0</td>\n      <td>11669.0</td>\n      <td>43910.559214</td>\n      <td>320.872961</td>\n      <td>2.348238e+09</td>\n      <td>4.984208e+05</td>\n      <td>22.773566</td>\n      <td>3116.498186</td>\n      <td>2.006337</td>\n      <td>2532.621398</td>\n    </tr>\n    <tr>\n      <th>Europe</th>\n      <td>Europe</td>\n      <td>7.475438e+08</td>\n      <td>242793984.0</td>\n      <td>1980561.0</td>\n      <td>236914861.0</td>\n      <td>3898562.0</td>\n      <td>7553.0</td>\n      <td>324788.958162</td>\n      <td>2649.424558</td>\n      <td>2.806916e+09</td>\n      <td>3.754851e+06</td>\n      <td>3.078922</td>\n      <td>377.440451</td>\n      <td>0.266322</td>\n      <td>5215.161716</td>\n    </tr>\n    <tr>\n      <th>South America</th>\n      <td>South America</td>\n      <td>4.376944e+08</td>\n      <td>66824087.0</td>\n      <td>1341748.0</td>\n      <td>64282682.0</td>\n      <td>1199657.0</td>\n      <td>10341.0</td>\n      <td>152672.916160</td>\n      <td>3065.490141</td>\n      <td>2.409430e+08</td>\n      <td>5.504821e+05</td>\n      <td>6.549950</td>\n      <td>326.212108</td>\n      <td>1.816589</td>\n      <td>2740.854994</td>\n    </tr>\n    <tr>\n      <th>Australia/Oceania</th>\n      <td>Australia/Oceania</td>\n      <td>4.346903e+07</td>\n      <td>13626060.0</td>\n      <td>23363.0</td>\n      <td>13343309.0</td>\n      <td>259388.0</td>\n      <td>176.0</td>\n      <td>313465.931952</td>\n      <td>537.463109</td>\n      <td>8.844942e+07</td>\n      <td>2.034769e+06</td>\n      <td>3.190139</td>\n      <td>1860.592818</td>\n      <td>0.491456</td>\n      <td>5967.190894</td>\n    </tr>\n    <tr>\n      <th>...</th>\n      <td>...</td>\n      <td>...</td>\n      <td>...</td>\n      <td>...</td>\n      <td>...</td>\n      <td>...</td>\n      <td>...</td>\n      <td>...</td>\n      <td>...</td>\n      <td>...</td>\n      <td>...</td>\n      <td>...</td>\n      <td>...</td>\n      <td>...</td>\n      <td>...</td>\n    </tr>\n    <tr>\n      <th>Wallis and Futuna</th>\n      <td>Australia/Oceania</td>\n      <td>1.098200e+04</td>\n      <td>761.0</td>\n      <td>7.0</td>\n      <td>438.0</td>\n      <td>316.0</td>\n      <td>NaN</td>\n      <td>69295.210344</td>\n      <td>637.406665</td>\n      <td>2.050800e+04</td>\n      <td>1.867419e+06</td>\n      <td>14.431012</td>\n      <td>1568.857143</td>\n      <td>0.535498</td>\n      <td>28774.358040</td>\n    </tr>\n    <tr>\n      <th>Niue</th>\n      <td>Australia/Oceania</td>\n      <td>1.622000e+03</td>\n      <td>483.0</td>\n      <td>NaN</td>\n      <td>320.0</td>\n      <td>163.0</td>\n      <td>NaN</td>\n      <td>297780.517879</td>\n      <td>NaN</td>\n      <td>NaN</td>\n      <td>NaN</td>\n      <td>3.358178</td>\n      <td>NaN</td>\n      <td>NaN</td>\n      <td>100493.218249</td>\n    </tr>\n    <tr>\n      <th>Vatican City</th>\n      <td>Europe</td>\n      <td>7.990000e+02</td>\n      <td>29.0</td>\n      <td>NaN</td>\n      <td>29.0</td>\n      <td>0.0</td>\n      <td>NaN</td>\n      <td>36295.369212</td>\n      <td>NaN</td>\n      <td>NaN</td>\n      <td>NaN</td>\n      <td>27.551724</td>\n      <td>NaN</td>\n      <td>NaN</td>\n      <td>0.000000</td>\n    </tr>\n    <tr>\n      <th>Western Sahara</th>\n      <td>Africa</td>\n      <td>6.261610e+05</td>\n      <td>10.0</td>\n      <td>1.0</td>\n      <td>9.0</td>\n      <td>0.0</td>\n      <td>NaN</td>\n      <td>15.970334</td>\n      <td>1.597033</td>\n      <td>NaN</td>\n      <td>NaN</td>\n      <td>62616.100000</td>\n      <td>626161.000000</td>\n      <td>NaN</td>\n      <td>0.000000</td>\n    </tr>\n    <tr>\n      <th>China</th>\n      <td>Asia</td>\n      <td>1.448471e+09</td>\n      <td>423130.0</td>\n      <td>5247.0</td>\n      <td>359383.0</td>\n      <td>58500.0</td>\n      <td>1966.0</td>\n      <td>292.121750</td>\n      <td>3.622439</td>\n      <td>1.600000e+08</td>\n      <td>1.104613e+05</td>\n      <td>3423.230213</td>\n      <td>276057.061178</td>\n      <td>9.052946</td>\n      <td>40.387404</td>\n    </tr>\n  </tbody>\n</table>\n<p>235 rows × 15 columns</p>\n</div>"
     },
     "execution_count": 3,
     "metadata": {},
     "output_type": "execute_result"
    }
   ],
   "source": [
    "# Creating list of column names\n",
    "col_names = [\"Country\", \"Total Cases\", \"New Cases\", \"Total Deaths\", \"New Deaths\", \"Total Recovered\", \"New Recovered\", \"Active Cases\", \"Critical Cases\",\n",
    "             \"Total Cases / 1M People\", \"Total Deaths / 1M People\", \"Total Tests\", \"Total Tests / 1M People\", \"Population\", \"Continent\", \"One Case / n People\",\n",
    "             \"One Death / n People\", \"One Test / n People\", \"New Cases / 1M People\", \"New Deaths / 1M People\", \"Active Cases / 1M People\"]\n",
    "\n",
    "# Reading the csv to a dataframe with the column names specified, encoding with \"latin-1\" to get around \"utf-8\" decoding issue.\n",
    "df = pd.read_csv(\"Live_Covid_Data.csv\", names=col_names, header=None, encoding=\"latin-1\")\n",
    "\n",
    "# Tidying up the names of the continent by removing the \"\\n\"'s on it, i.e. \"\\nNorth America\\n\"\n",
    "old_continent_list = df.iloc[0:7][\"Country\"].tolist()  # Locating the continent names and putting them into a list\n",
    "new_continent_list = []  # Defining a list for the formatted continent names\n",
    "\n",
    "for old_continent in old_continent_list:  # Iterate through current continent names\n",
    "     new_continent = \"Antarctica\" if old_continent == \"\\n\\n\" else old_continent.replace(\"\\n\", \"\")  # Removing \\n from continent names/identifying Antarctica\n",
    "     if new_continent == \"Oceania\":  # In \"Continent\" column countries are assigned Australia/Oceania not just Oceania\n",
    "         new_continent = \"Australia/Oceania\"  # Renaming continent\n",
    "     new_continent_list.append(new_continent)  # Addding the renamed continenet to the new list\n",
    "\n",
    "# Changing the index to the name of the Country/Continent\n",
    "df.set_index(\"Country\", inplace=True)  # inplace=True updates the original datafram immediately\n",
    "\n",
    "# Changing the index name to the re-formatted continents. set_value has been depricated, also before setting the index as Country the continent rows had\n",
    "# an index of NaN so at[row, col] couldn't be used to assign values either. Therefore, application of the reformatted names had to after set_index was done.\n",
    "n = 0\n",
    "for new_continent in new_continent_list:  # Iterate through the new continent names\n",
    "    df.rename(index={old_continent_list[n]: new_continent}, inplace=True)  # Replace the old continent name with corresponding new continent name\n",
    "    n += 1\n",
    "\n",
    "# Moving country continent and population to first/second column as it is important for comparison to total cases etc\n",
    "country_pop_col = df.pop(\"Continent\")\n",
    "df.insert(0, \"Continent\", country_pop_col)\n",
    "country_pop_col = df.pop(\"Population\")  # Removes the column from DF while saving it to a variable\n",
    "df.insert(1, \"Population\", country_pop_col)  # Replacing the column in first position using previously assigned variable\n",
    "\n",
    "# Removing non-ccountries/non-territories from the DF\n",
    "drop_list = [\"Diamond Princess\", \"MS Zaandam\", \"Total:\"]  # List of unwanted non-countries/non-territories\n",
    "for item in drop_list:  # Iterate through list\n",
    "    df.drop(index=item, axis=0, inplace=True)  # Permanently delete the corresponding row in place\n",
    "\n",
    "# Calculating the population of each continent and the world\n",
    "global_population = 0  # Defining global population as 0\n",
    "for continent in new_continent_list:  # iterate through the continents\n",
    "    # If a row has continent \"continent\" and is not the row for the continent itself, population is added to the corresponding list\n",
    "    population_list = df.loc[(df[\"Continent\"] == continent) & (df.index != continent), \"Population\"].tolist()\n",
    "    continent_population = 0  # Defining the continent's population as 0\n",
    "\n",
    "    for population in population_list:  # Iterate through all populations in the list\n",
    "        new_population = re.sub(\",\", \"\", population)  # Removing the commas from the strings seperating 1000's\n",
    "        continent_population += int(new_population)  # Adding the population to the continent populatuon\n",
    "\n",
    "    global_population += continent_population  # Adding the continent population to the global population\n",
    "    df.at[continent, \"Population\"] = continent_population  # Replacing the continents NaN population with the calculated population\n",
    "df.at[\"World\", \"Population\"] = global_population  # Replacing the world's NaN population with the calculated population\n",
    "\n",
    "# Dropping Antarctica as its data is not useful\n",
    "df.drop(index=\"Antarctica\", axis=0, inplace=True)\n",
    "\n",
    "# Handling missing values\n",
    "df = df.replace(r\"^\\s*$\", np.nan, regex=True)\n",
    "\n",
    "# Remove commas from all columns and convert all columns to floats while avoiding non-numeric data\n",
    "df = df.replace(\",\", \"\", regex=True)  # Removing commas from entire dataframe, regex=True automates searching and replacing\n",
    "for column in df:  # Iterate through all columns in the dataframe\n",
    "    try:  # Try the following experssion:\n",
    "        df[column] = df[column].astype(float)  # Convert the column to floats\n",
    "    except ValueError:  # If this error is caused, raise an exception for the Nan/string value\n",
    "        pass  # Skip the conversion if the column contains non-numeric data\n",
    "\n",
    "# Dropping columns with the format \"New...\" as \"New\" is ambiguous and not described on the website, they also contain a lot of NaN.\n",
    "for column in df:\n",
    "    if \"New\" in column:\n",
    "        df.drop(columns=column, inplace=True)\n",
    "\n",
    "# Calculating the total tests taken in each continent\n",
    "global_total_tests = 0  # Defining the global total as 0\n",
    "for continent in new_continent_list[:-1]:  # Iterating through continents, except antarctica\n",
    "    continent_total_tests = 0  # Defining the continent total as 0\n",
    "    test_list = df.loc[(df[\"Continent\"] == continent) & (df.index != continent), \"Total Tests\"].tolist()  # Adding all test numbers to a list\n",
    "    clean_test_list = [x for x in test_list if (math.isnan(x) == False)]  # Removing nan values from the list\n",
    "    continent_total_tests = sum(clean_test_list)  # Summing all the values in the list\n",
    "    global_total_tests += continent_total_tests  # Adding the continent total to the global total\n",
    "    df.at[continent, \"Total Tests\"] = continent_total_tests  # Reassigning the continent total tests value to new calculated value\n",
    "df.at[\"World\", \"Total Tests\"] = global_total_tests  # Reassign global test total after for loop has completed\n",
    "\n",
    "# Recalculating X/1M based on the live data from other columns where x = Total Cases, Total Deaths, Total Tests, Active Cases\n",
    "for column in df:  # Iterate through columns in the DF\n",
    "    if \"1M People\" in column:  # Checking if the column is a target for recalculation\n",
    "        reduced_column = column.replace(\" / 1M People\", \"\")  # Formulating the column from which x/1M column will be calculated\n",
    "        df[column] = (df[reduced_column] / df[\"Population\"]) * 1000000  # Recalculating column\n",
    "\n",
    "# Recalculating how many people there where per one case/death/test\n",
    "df[\"One Case / n People\"] = df[\"Population\"] / df[\"Total Cases\"]\n",
    "df[\"One Death / n People\"] = df[\"Population\"] / df[\"Total Deaths\"]\n",
    "df[\"One Test / n People\"] = df[\"Population\"] / df[\"Total Tests\"]\n",
    "\n",
    "df"
   ]
  },
  {
   "cell_type": "markdown",
   "source": [
    "Step 3: Exploratory Data Analysis (8%)"
   ],
   "metadata": {
    "collapsed": false
   }
  },
  {
   "cell_type": "code",
   "execution_count": 4,
   "outputs": [
    {
     "data": {
      "text/plain": "         Population   Total Cases  Total Deaths  Total Recovered  \\\ncount  2.350000e+02  2.350000e+02  2.300000e+02     2.150000e+02   \nmean   1.014247e+08  8.479152e+06  8.731943e+04     8.788407e+06   \nstd    6.224031e+08  4.924169e+07  4.957105e+05     4.927483e+07   \nmin    7.990000e+02  1.000000e+01  1.000000e+00     2.000000e+00   \n25%    5.822545e+05  2.876600e+04  2.307500e+02     2.499300e+04   \n50%    6.684849e+06  2.309700e+05  2.738000e+03     2.816190e+05   \n75%    2.782692e+07  1.631720e+06  1.699600e+04     1.912317e+06   \nmax    7.944934e+09  6.642007e+08  6.694500e+06     6.361570e+08   \n\n       Active Cases  Critical Cases  Total Cases / 1M People  \\\ncount  2.160000e+02      148.000000               235.000000   \nmean   2.893376e+05      815.878378            190215.787408   \nstd    1.782182e+06     3740.887677            190419.006075   \nmin    0.000000e+00        1.000000                15.970334   \n25%    1.335000e+02        5.000000             17987.625161   \n50%    1.940000e+03       22.000000            123974.876715   \n75%    2.005850e+04      115.250000            308674.005366   \nmax    2.134926e+07    40250.000000            703958.726870   \n\n       Total Deaths / 1M People   Total Tests  Total Tests / 1M People  \\\ncount                230.000000  2.200000e+02             2.200000e+02   \nmean                1233.812130  9.384579e+07             2.089764e+06   \nstd                 1263.628090  5.392495e+08             3.548503e+06   \nmin                    1.597033  7.850000e+03             5.090634e+03   \n25%                  175.870168  3.639415e+05             1.891060e+05   \n50%                  794.034948  2.524787e+06             8.758852e+05   \n75%                 2013.981620  1.699053e+07             2.375439e+06   \nmax                 6477.159861  6.882025e+09             2.255304e+07   \n\n       One Case / n People  One Death / n People  One Test / n People  \\\ncount           235.000000            230.000000           220.000000   \nmean            396.578047          14206.648691            10.527778   \nstd            4095.713330          56403.262602            26.379282   \nmin               1.420538            154.388655             0.044340   \n25%               3.239892            496.565488             0.421074   \n50%               8.066150           1259.465141             1.141811   \n75%              55.709022           5686.160167             5.288352   \nmax           62616.100000         626161.000000           196.439191   \n\n       Active Cases / 1M People  \ncount                216.000000  \nmean               13390.698377  \nstd                46870.426227  \nmin                    0.000000  \n25%                   55.722758  \n50%                  590.133026  \n75%                 3377.160933  \nmax               340116.235861  ",
      "text/html": "<div>\n<style scoped>\n    .dataframe tbody tr th:only-of-type {\n        vertical-align: middle;\n    }\n\n    .dataframe tbody tr th {\n        vertical-align: top;\n    }\n\n    .dataframe thead th {\n        text-align: right;\n    }\n</style>\n<table border=\"1\" class=\"dataframe\">\n  <thead>\n    <tr style=\"text-align: right;\">\n      <th></th>\n      <th>Population</th>\n      <th>Total Cases</th>\n      <th>Total Deaths</th>\n      <th>Total Recovered</th>\n      <th>Active Cases</th>\n      <th>Critical Cases</th>\n      <th>Total Cases / 1M People</th>\n      <th>Total Deaths / 1M People</th>\n      <th>Total Tests</th>\n      <th>Total Tests / 1M People</th>\n      <th>One Case / n People</th>\n      <th>One Death / n People</th>\n      <th>One Test / n People</th>\n      <th>Active Cases / 1M People</th>\n    </tr>\n  </thead>\n  <tbody>\n    <tr>\n      <th>count</th>\n      <td>2.350000e+02</td>\n      <td>2.350000e+02</td>\n      <td>2.300000e+02</td>\n      <td>2.150000e+02</td>\n      <td>2.160000e+02</td>\n      <td>148.000000</td>\n      <td>235.000000</td>\n      <td>230.000000</td>\n      <td>2.200000e+02</td>\n      <td>2.200000e+02</td>\n      <td>235.000000</td>\n      <td>230.000000</td>\n      <td>220.000000</td>\n      <td>216.000000</td>\n    </tr>\n    <tr>\n      <th>mean</th>\n      <td>1.014247e+08</td>\n      <td>8.479152e+06</td>\n      <td>8.731943e+04</td>\n      <td>8.788407e+06</td>\n      <td>2.893376e+05</td>\n      <td>815.878378</td>\n      <td>190215.787408</td>\n      <td>1233.812130</td>\n      <td>9.384579e+07</td>\n      <td>2.089764e+06</td>\n      <td>396.578047</td>\n      <td>14206.648691</td>\n      <td>10.527778</td>\n      <td>13390.698377</td>\n    </tr>\n    <tr>\n      <th>std</th>\n      <td>6.224031e+08</td>\n      <td>4.924169e+07</td>\n      <td>4.957105e+05</td>\n      <td>4.927483e+07</td>\n      <td>1.782182e+06</td>\n      <td>3740.887677</td>\n      <td>190419.006075</td>\n      <td>1263.628090</td>\n      <td>5.392495e+08</td>\n      <td>3.548503e+06</td>\n      <td>4095.713330</td>\n      <td>56403.262602</td>\n      <td>26.379282</td>\n      <td>46870.426227</td>\n    </tr>\n    <tr>\n      <th>min</th>\n      <td>7.990000e+02</td>\n      <td>1.000000e+01</td>\n      <td>1.000000e+00</td>\n      <td>2.000000e+00</td>\n      <td>0.000000e+00</td>\n      <td>1.000000</td>\n      <td>15.970334</td>\n      <td>1.597033</td>\n      <td>7.850000e+03</td>\n      <td>5.090634e+03</td>\n      <td>1.420538</td>\n      <td>154.388655</td>\n      <td>0.044340</td>\n      <td>0.000000</td>\n    </tr>\n    <tr>\n      <th>25%</th>\n      <td>5.822545e+05</td>\n      <td>2.876600e+04</td>\n      <td>2.307500e+02</td>\n      <td>2.499300e+04</td>\n      <td>1.335000e+02</td>\n      <td>5.000000</td>\n      <td>17987.625161</td>\n      <td>175.870168</td>\n      <td>3.639415e+05</td>\n      <td>1.891060e+05</td>\n      <td>3.239892</td>\n      <td>496.565488</td>\n      <td>0.421074</td>\n      <td>55.722758</td>\n    </tr>\n    <tr>\n      <th>50%</th>\n      <td>6.684849e+06</td>\n      <td>2.309700e+05</td>\n      <td>2.738000e+03</td>\n      <td>2.816190e+05</td>\n      <td>1.940000e+03</td>\n      <td>22.000000</td>\n      <td>123974.876715</td>\n      <td>794.034948</td>\n      <td>2.524787e+06</td>\n      <td>8.758852e+05</td>\n      <td>8.066150</td>\n      <td>1259.465141</td>\n      <td>1.141811</td>\n      <td>590.133026</td>\n    </tr>\n    <tr>\n      <th>75%</th>\n      <td>2.782692e+07</td>\n      <td>1.631720e+06</td>\n      <td>1.699600e+04</td>\n      <td>1.912317e+06</td>\n      <td>2.005850e+04</td>\n      <td>115.250000</td>\n      <td>308674.005366</td>\n      <td>2013.981620</td>\n      <td>1.699053e+07</td>\n      <td>2.375439e+06</td>\n      <td>55.709022</td>\n      <td>5686.160167</td>\n      <td>5.288352</td>\n      <td>3377.160933</td>\n    </tr>\n    <tr>\n      <th>max</th>\n      <td>7.944934e+09</td>\n      <td>6.642007e+08</td>\n      <td>6.694500e+06</td>\n      <td>6.361570e+08</td>\n      <td>2.134926e+07</td>\n      <td>40250.000000</td>\n      <td>703958.726870</td>\n      <td>6477.159861</td>\n      <td>6.882025e+09</td>\n      <td>2.255304e+07</td>\n      <td>62616.100000</td>\n      <td>626161.000000</td>\n      <td>196.439191</td>\n      <td>340116.235861</td>\n    </tr>\n  </tbody>\n</table>\n</div>"
     },
     "execution_count": 4,
     "metadata": {},
     "output_type": "execute_result"
    }
   ],
   "source": [
    "# Mean, sum, range, and\n",
    "df.describe()"
   ],
   "metadata": {
    "collapsed": false
   }
  },
  {
   "cell_type": "markdown",
   "source": [
    "Step 4a: Question 1 (10%)"
   ],
   "metadata": {
    "collapsed": false
   }
  },
  {
   "cell_type": "code",
   "execution_count": 31,
   "outputs": [],
   "source": [],
   "metadata": {
    "collapsed": false
   }
  },
  {
   "cell_type": "markdown",
   "source": [
    "Step 4b: Question 2 (10%)"
   ],
   "metadata": {
    "collapsed": false
   }
  },
  {
   "cell_type": "code",
   "execution_count": null,
   "outputs": [],
   "source": [],
   "metadata": {
    "collapsed": false
   }
  },
  {
   "cell_type": "markdown",
   "source": [
    "Step 4c: Question 3 (10%)"
   ],
   "metadata": {
    "collapsed": false
   }
  },
  {
   "cell_type": "code",
   "execution_count": null,
   "outputs": [],
   "source": [],
   "metadata": {
    "collapsed": false
   }
  },
  {
   "cell_type": "markdown",
   "source": [
    "Step 5: Summary and Conclusion (5%)"
   ],
   "metadata": {
    "collapsed": false
   }
  },
  {
   "cell_type": "markdown",
   "source": [
    "Write summary/conc in here"
   ],
   "metadata": {
    "collapsed": false
   }
  }
 ],
 "metadata": {
  "kernelspec": {
   "display_name": "Python 3 (ipykernel)",
   "language": "python",
   "name": "python3"
  },
  "language_info": {
   "codemirror_mode": {
    "name": "ipython",
    "version": 3
   },
   "file_extension": ".py",
   "mimetype": "text/x-python",
   "name": "python",
   "nbconvert_exporter": "python",
   "pygments_lexer": "ipython3",
   "version": "3.9.12"
  }
 },
 "nbformat": 4,
 "nbformat_minor": 4
}
