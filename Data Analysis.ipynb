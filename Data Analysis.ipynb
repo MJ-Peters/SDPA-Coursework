{
 "cells": [
  {
   "cell_type": "markdown",
   "source": [
    "Step 0: Importing Relevant Packages (0%)"
   ],
   "metadata": {
    "collapsed": false
   }
  },
  {
   "cell_type": "code",
   "execution_count": 32,
   "metadata": {
    "collapsed": false,
    "jupyter": {
     "outputs_hidden": false
    }
   },
   "outputs": [],
   "source": [
    "# Web Scraping Libraries\n",
    "from bs4 import BeautifulSoup  # for scraping\n",
    "import requests  # for sending HTTP requests\n",
    "# Data Processing Libraries\n",
    "import csv\n",
    "import re\n",
    "import pandas as pd\n",
    "import numpy as np\n",
    "import matplotlib.pyplot as plt\n",
    "import seaborn as sns"
   ]
  },
  {
   "cell_type": "markdown",
   "metadata": {},
   "source": [
    "Step 1: Crawl a Real World Data Set (2%)"
   ]
  },
  {
   "cell_type": "code",
   "execution_count": 3,
   "outputs": [],
   "source": [
    "url = \"https://www.worldometers.info/coronavirus/#main_table\"  # Web address of data\n",
    "response = requests.get(url)  # Performing a get request for the data at the url location\n",
    "soup_object = BeautifulSoup(response.content)  # Parsing the request response to create a soup_object that can be searched for a table\n",
    "covid_table = soup_object.find(\"table\")  # Searching the soup_object for a table\n",
    "\n",
    "with open(\"Live_Covid_Data.csv\", \"w\", newline=\"\") as csv_file:  # Opening a CSV file to be written into\n",
    "    writer = csv.writer(csv_file)  # Defining the writer as a csv writer that writes to the opened file\n",
    "\n",
    "    for row in covid_table.find_all(\"tr\"):  # Iterate through the rows of the table, \"tr\" points to a row in the table\n",
    "        cells = row.find_all(\"td\")  # Get the cells in the row, \"td\" points to a cell in the row\n",
    "\n",
    "        if cells:  # If there are cells...\n",
    "            values = [cell.text for cell in cells]  # Values is a list of values for each cell in the row of cells\n",
    "            writer.writerow(values)  # Write the values to the CSV\n"
   ],
   "metadata": {
    "collapsed": false
   }
  },
  {
   "cell_type": "markdown",
   "source": [
    "Step 2: Data Preparation and Cleaning (5%)"
   ],
   "metadata": {
    "collapsed": false
   }
  },
  {
   "cell_type": "code",
   "execution_count": 41,
   "metadata": {},
   "outputs": [
    {
     "data": {
      "text/plain": "                                                      Population  Total Cases  \\\nCountry                                                                         \nNorth America                                          598140916  121,262,081   \nAsia                                                  4711356783  206,595,856   \nEurope                                                 747543837  242,719,800   \nSouth America                                          437694443   66,758,003   \nAustralia/Oceania                                       43469030   13,582,848   \n...                                                          ...          ...   \nWallis and Futuna                                        10,982           761   \nNiue                                                      1,622           458   \nVatican City                                                799            29   \nWestern Sahara                                          626,161            10   \nChina              1,448,471,400                                      417,615   \n\n                  New Cases                           Total Deaths  \\\nCountry                                                              \nNorth America        +5,968                              1,578,160   \nAsia               +323,654                              1,511,157   \nEurope              +15,247                              1,980,119   \nSouth America        +3,145                              1,341,406   \nAustralia/Oceania    +2,758                                 23,298   \n...                     ...                                    ...   \nWallis and Futuna       NaN      7                                   \nNiue                    +21                                          \nVatican City            NaN                                          \nWestern Sahara          NaN      1                                   \nChina                +5,102  5,246                                   \n\n                   New Deaths Total Recovered New Recovered Active Cases  \\\nCountry                                                                    \nNorth America            28.0     116,064,929        +5,895    3,618,992   \nAsia                    635.0     193,360,313      +100,774   11,724,386   \nEurope                  110.0     236,784,979       +66,776    3,954,702   \nSouth America             1.0      64,253,133       +23,085    1,163,464   \nAustralia/Oceania        24.0      13,232,703           +20      326,847   \n...                       ...             ...           ...          ...   \nWallis and Futuna         NaN             438           NaN          316   \nNiue                      NaN             290           +20          168   \nVatican City              NaN              29           NaN            0   \nWestern Sahara            NaN               9           NaN            0   \nChina                     1.0         357,097        +1,920       55,272   \n\n                  Critical Cases Total Cases / 1M People  \\\nCountry                                                    \nNorth America              9,463                     NaN   \nAsia                      11,331                     NaN   \nEurope                     7,569                     NaN   \nSouth America             10,341                     NaN   \nAustralia/Oceania            161                     NaN   \n...                          ...                     ...   \nWallis and Futuna            NaN                  69,295   \nNiue                         NaN                 282,367   \nVatican City                 NaN                  36,295   \nWestern Sahara               NaN                      16   \nChina                      1,611                     288   \n\n                  Total Deaths / 1M People  Total Tests  \\\nCountry                                                   \nNorth America                          NaN          NaN   \nAsia                                   NaN          NaN   \nEurope                                 NaN          NaN   \nSouth America                          NaN          NaN   \nAustralia/Oceania                      NaN          NaN   \n...                                    ...          ...   \nWallis and Futuna                      637       20,508   \nNiue                                   NaN          NaN   \nVatican City                           NaN          NaN   \nWestern Sahara                           2          NaN   \nChina                                    4  160,000,000   \n\n                  Total Tests / 1M People          Continent  \\\nCountry                                                        \nNorth America                         NaN      North America   \nAsia                                  NaN               Asia   \nEurope                                NaN             Europe   \nSouth America                         NaN      South America   \nAustralia/Oceania                     NaN  Australia/Oceania   \n...                                   ...                ...   \nWallis and Futuna               1,867,419  Australia/Oceania   \nNiue                                  NaN  Australia/Oceania   \nVatican City                          NaN             Europe   \nWestern Sahara                        NaN             Africa   \nChina                             110,461               Asia   \n\n                  One Case / n People One Death / n People  \\\nCountry                                                      \nNorth America                      \\n                  NaN   \nAsia                               \\n                  NaN   \nEurope                             \\n                  NaN   \nSouth America                      \\n                  NaN   \nAustralia/Oceania                  \\n                  NaN   \n...                               ...                  ...   \nWallis and Futuna                  14                1,569   \nNiue                                4                  NaN   \nVatican City                       28                  NaN   \nWestern Sahara                 62,616              626,161   \nChina                           3,468              276,110   \n\n                   One Test / n People New Cases / 1M People  \\\nCountry                                                        \nNorth America                      NaN                   NaN   \nAsia                               NaN                   NaN   \nEurope                             NaN                   NaN   \nSouth America                      NaN                   NaN   \nAustralia/Oceania                  NaN                   NaN   \n...                                ...                   ...   \nWallis and Futuna                  1.0                   NaN   \nNiue                               NaN                12,947   \nVatican City                       NaN                   NaN   \nWestern Sahara                     NaN                   NaN   \nChina                              9.0                     4   \n\n                   New Deaths / 1M People Active Cases / 1M People  \nCountry                                                             \nNorth America                         NaN                      NaN  \nAsia                                  NaN                      NaN  \nEurope                                NaN                      NaN  \nSouth America                         NaN                      NaN  \nAustralia/Oceania                     NaN                      NaN  \n...                                   ...                      ...  \nWallis and Futuna                     NaN                   28,774  \nNiue                                  NaN                  103,576  \nVatican City                          NaN                      NaN  \nWestern Sahara                        NaN                      NaN  \nChina                                 NaN                       38  \n\n[236 rows x 20 columns]",
      "text/html": "<div>\n<style scoped>\n    .dataframe tbody tr th:only-of-type {\n        vertical-align: middle;\n    }\n\n    .dataframe tbody tr th {\n        vertical-align: top;\n    }\n\n    .dataframe thead th {\n        text-align: right;\n    }\n</style>\n<table border=\"1\" class=\"dataframe\">\n  <thead>\n    <tr style=\"text-align: right;\">\n      <th></th>\n      <th>Population</th>\n      <th>Total Cases</th>\n      <th>New Cases</th>\n      <th>Total Deaths</th>\n      <th>New Deaths</th>\n      <th>Total Recovered</th>\n      <th>New Recovered</th>\n      <th>Active Cases</th>\n      <th>Critical Cases</th>\n      <th>Total Cases / 1M People</th>\n      <th>Total Deaths / 1M People</th>\n      <th>Total Tests</th>\n      <th>Total Tests / 1M People</th>\n      <th>Continent</th>\n      <th>One Case / n People</th>\n      <th>One Death / n People</th>\n      <th>One Test / n People</th>\n      <th>New Cases / 1M People</th>\n      <th>New Deaths / 1M People</th>\n      <th>Active Cases / 1M People</th>\n    </tr>\n    <tr>\n      <th>Country</th>\n      <th></th>\n      <th></th>\n      <th></th>\n      <th></th>\n      <th></th>\n      <th></th>\n      <th></th>\n      <th></th>\n      <th></th>\n      <th></th>\n      <th></th>\n      <th></th>\n      <th></th>\n      <th></th>\n      <th></th>\n      <th></th>\n      <th></th>\n      <th></th>\n      <th></th>\n      <th></th>\n    </tr>\n  </thead>\n  <tbody>\n    <tr>\n      <th>North America</th>\n      <td>598140916</td>\n      <td>121,262,081</td>\n      <td>+5,968</td>\n      <td>1,578,160</td>\n      <td>28.0</td>\n      <td>116,064,929</td>\n      <td>+5,895</td>\n      <td>3,618,992</td>\n      <td>9,463</td>\n      <td>NaN</td>\n      <td>NaN</td>\n      <td>NaN</td>\n      <td>NaN</td>\n      <td>North America</td>\n      <td>\\n</td>\n      <td>NaN</td>\n      <td>NaN</td>\n      <td>NaN</td>\n      <td>NaN</td>\n      <td>NaN</td>\n    </tr>\n    <tr>\n      <th>Asia</th>\n      <td>4711356783</td>\n      <td>206,595,856</td>\n      <td>+323,654</td>\n      <td>1,511,157</td>\n      <td>635.0</td>\n      <td>193,360,313</td>\n      <td>+100,774</td>\n      <td>11,724,386</td>\n      <td>11,331</td>\n      <td>NaN</td>\n      <td>NaN</td>\n      <td>NaN</td>\n      <td>NaN</td>\n      <td>Asia</td>\n      <td>\\n</td>\n      <td>NaN</td>\n      <td>NaN</td>\n      <td>NaN</td>\n      <td>NaN</td>\n      <td>NaN</td>\n    </tr>\n    <tr>\n      <th>Europe</th>\n      <td>747543837</td>\n      <td>242,719,800</td>\n      <td>+15,247</td>\n      <td>1,980,119</td>\n      <td>110.0</td>\n      <td>236,784,979</td>\n      <td>+66,776</td>\n      <td>3,954,702</td>\n      <td>7,569</td>\n      <td>NaN</td>\n      <td>NaN</td>\n      <td>NaN</td>\n      <td>NaN</td>\n      <td>Europe</td>\n      <td>\\n</td>\n      <td>NaN</td>\n      <td>NaN</td>\n      <td>NaN</td>\n      <td>NaN</td>\n      <td>NaN</td>\n    </tr>\n    <tr>\n      <th>South America</th>\n      <td>437694443</td>\n      <td>66,758,003</td>\n      <td>+3,145</td>\n      <td>1,341,406</td>\n      <td>1.0</td>\n      <td>64,253,133</td>\n      <td>+23,085</td>\n      <td>1,163,464</td>\n      <td>10,341</td>\n      <td>NaN</td>\n      <td>NaN</td>\n      <td>NaN</td>\n      <td>NaN</td>\n      <td>South America</td>\n      <td>\\n</td>\n      <td>NaN</td>\n      <td>NaN</td>\n      <td>NaN</td>\n      <td>NaN</td>\n      <td>NaN</td>\n    </tr>\n    <tr>\n      <th>Australia/Oceania</th>\n      <td>43469030</td>\n      <td>13,582,848</td>\n      <td>+2,758</td>\n      <td>23,298</td>\n      <td>24.0</td>\n      <td>13,232,703</td>\n      <td>+20</td>\n      <td>326,847</td>\n      <td>161</td>\n      <td>NaN</td>\n      <td>NaN</td>\n      <td>NaN</td>\n      <td>NaN</td>\n      <td>Australia/Oceania</td>\n      <td>\\n</td>\n      <td>NaN</td>\n      <td>NaN</td>\n      <td>NaN</td>\n      <td>NaN</td>\n      <td>NaN</td>\n    </tr>\n    <tr>\n      <th>...</th>\n      <td>...</td>\n      <td>...</td>\n      <td>...</td>\n      <td>...</td>\n      <td>...</td>\n      <td>...</td>\n      <td>...</td>\n      <td>...</td>\n      <td>...</td>\n      <td>...</td>\n      <td>...</td>\n      <td>...</td>\n      <td>...</td>\n      <td>...</td>\n      <td>...</td>\n      <td>...</td>\n      <td>...</td>\n      <td>...</td>\n      <td>...</td>\n      <td>...</td>\n    </tr>\n    <tr>\n      <th>Wallis and Futuna</th>\n      <td>10,982</td>\n      <td>761</td>\n      <td>NaN</td>\n      <td>7</td>\n      <td>NaN</td>\n      <td>438</td>\n      <td>NaN</td>\n      <td>316</td>\n      <td>NaN</td>\n      <td>69,295</td>\n      <td>637</td>\n      <td>20,508</td>\n      <td>1,867,419</td>\n      <td>Australia/Oceania</td>\n      <td>14</td>\n      <td>1,569</td>\n      <td>1.0</td>\n      <td>NaN</td>\n      <td>NaN</td>\n      <td>28,774</td>\n    </tr>\n    <tr>\n      <th>Niue</th>\n      <td>1,622</td>\n      <td>458</td>\n      <td>+21</td>\n      <td></td>\n      <td>NaN</td>\n      <td>290</td>\n      <td>+20</td>\n      <td>168</td>\n      <td>NaN</td>\n      <td>282,367</td>\n      <td>NaN</td>\n      <td>NaN</td>\n      <td>NaN</td>\n      <td>Australia/Oceania</td>\n      <td>4</td>\n      <td>NaN</td>\n      <td>NaN</td>\n      <td>12,947</td>\n      <td>NaN</td>\n      <td>103,576</td>\n    </tr>\n    <tr>\n      <th>Vatican City</th>\n      <td>799</td>\n      <td>29</td>\n      <td>NaN</td>\n      <td></td>\n      <td>NaN</td>\n      <td>29</td>\n      <td>NaN</td>\n      <td>0</td>\n      <td>NaN</td>\n      <td>36,295</td>\n      <td>NaN</td>\n      <td>NaN</td>\n      <td>NaN</td>\n      <td>Europe</td>\n      <td>28</td>\n      <td>NaN</td>\n      <td>NaN</td>\n      <td>NaN</td>\n      <td>NaN</td>\n      <td>NaN</td>\n    </tr>\n    <tr>\n      <th>Western Sahara</th>\n      <td>626,161</td>\n      <td>10</td>\n      <td>NaN</td>\n      <td>1</td>\n      <td>NaN</td>\n      <td>9</td>\n      <td>NaN</td>\n      <td>0</td>\n      <td>NaN</td>\n      <td>16</td>\n      <td>2</td>\n      <td>NaN</td>\n      <td>NaN</td>\n      <td>Africa</td>\n      <td>62,616</td>\n      <td>626,161</td>\n      <td>NaN</td>\n      <td>NaN</td>\n      <td>NaN</td>\n      <td>NaN</td>\n    </tr>\n    <tr>\n      <th>China</th>\n      <td>1,448,471,400</td>\n      <td>417,615</td>\n      <td>+5,102</td>\n      <td>5,246</td>\n      <td>1.0</td>\n      <td>357,097</td>\n      <td>+1,920</td>\n      <td>55,272</td>\n      <td>1,611</td>\n      <td>288</td>\n      <td>4</td>\n      <td>160,000,000</td>\n      <td>110,461</td>\n      <td>Asia</td>\n      <td>3,468</td>\n      <td>276,110</td>\n      <td>9.0</td>\n      <td>4</td>\n      <td>NaN</td>\n      <td>38</td>\n    </tr>\n  </tbody>\n</table>\n<p>236 rows × 20 columns</p>\n</div>"
     },
     "execution_count": 41,
     "metadata": {},
     "output_type": "execute_result"
    }
   ],
   "source": [
    "# Creating list of column names\n",
    "col_names = [\"Country\", \"Total Cases\", \"New Cases\", \"Total Deaths\", \"New Deaths\", \"Total Recovered\", \"New Recovered\", \"Active Cases\", \"Critical Cases\",\n",
    "             \"Total Cases / 1M People\", \"Total Deaths / 1M People\", \"Total Tests\", \"Total Tests / 1M People\", \"Population\", \"Continent\", \"One Case / n People\",\n",
    "             \"One Death / n People\", \"One Test / n People\", \"New Cases / 1M People\", \"New Deaths / 1M People\", \"Active Cases / 1M People\"]\n",
    "\n",
    "# Reading the csv to a dataframe with the column names specified, encoding with \"latin-1\" to get around \"utf-8\" decoding issue.\n",
    "df = pd.read_csv(\"Live_Covid_Data.csv\", names=col_names, header=None, encoding=\"latin-1\")\n",
    "\n",
    "# Tidying up the names of the continent by removing the \"\\n\"'s on it, i.e. \"\\nNorth America\\n\"\n",
    "old_continent_list = df.iloc[0:7][\"Country\"].tolist()  # Locating the continent names and putting them into a list\n",
    "new_continent_list = []  # Defining a list for the formatted continent names\n",
    "for old_continent in old_continent_list:\n",
    "     new_continent = \"Antarctica\" if old_continent == \"\\n\\n\" else old_continent.replace(\"\\n\", \"\")\n",
    "     if new_continent == \"Oceania\":\n",
    "         new_continent = \"Australia/Oceania\"\n",
    "     new_continent_list.append(new_continent)\n",
    "\n",
    "# Changing the index to the name of the Country/Continent\n",
    "df.set_index(\"Country\", inplace=True)\n",
    "\n",
    "# Changing the index name to the re-formatted continents. set_value has been depricated, also before setting the index as Country the continent rows had\n",
    "# an index of NaN so at[row, col] couldn't be used to assign values either. Therefore, application of the reformatted names had to after set_index was done.\n",
    "n = 0\n",
    "for new_continent in new_continent_list:\n",
    "    df.rename(index={old_continent_list[n]: new_continent}, inplace=True)\n",
    "    n += 1\n",
    "\n",
    "# Moving country population to first column as it is important for comparison to total cases etc\n",
    "country_pop_col = df.pop(\"Population\")\n",
    "df.insert(0, \"Population\", country_pop_col)\n",
    "\n",
    "# Removing non-ccountries/territories from the DF\n",
    "drop_list = [\"Diamond Princess\", \"MS Zaandam\", \"Total:\"]\n",
    "for item in drop_list:\n",
    "    df.drop(index=item, axis=0, inplace=True)\n",
    "\n",
    "\n",
    "# Calculating the population of each continent and the world\n",
    "global_population = 0\n",
    "for continent in new_continent_list:\n",
    "    population_list = df.loc[(df[\"Continent\"] == continent) & (df.index != continent), \"Population\"].tolist()\n",
    "    continent_population = 0\n",
    "    for population in population_list:\n",
    "        new_population = re.sub(\",\", \"\", population)\n",
    "        continent_population += int(new_population)\n",
    "    global_population += continent_population\n",
    "    df.at[continent, \"Population\"] = continent_population\n",
    "df.at[\"World\", \"Population\"] = global_population\n",
    "\n",
    "df"
   ]
  },
  {
   "cell_type": "markdown",
   "source": [
    "Step 3: Exploratory Data Analysis (8%)"
   ],
   "metadata": {
    "collapsed": false
   }
  },
  {
   "cell_type": "code",
   "execution_count": null,
   "outputs": [],
   "source": [],
   "metadata": {
    "collapsed": false
   }
  },
  {
   "cell_type": "markdown",
   "source": [
    "Step 4a: Question 1 (10%)"
   ],
   "metadata": {
    "collapsed": false
   }
  },
  {
   "cell_type": "code",
   "execution_count": 31,
   "outputs": [],
   "source": [],
   "metadata": {
    "collapsed": false
   }
  },
  {
   "cell_type": "markdown",
   "source": [
    "Step 4b: Question 2 (10%)"
   ],
   "metadata": {
    "collapsed": false
   }
  },
  {
   "cell_type": "code",
   "execution_count": null,
   "outputs": [],
   "source": [],
   "metadata": {
    "collapsed": false
   }
  },
  {
   "cell_type": "markdown",
   "source": [
    "Step 4c: Question 3 (10%)"
   ],
   "metadata": {
    "collapsed": false
   }
  },
  {
   "cell_type": "code",
   "execution_count": null,
   "outputs": [],
   "source": [],
   "metadata": {
    "collapsed": false
   }
  },
  {
   "cell_type": "markdown",
   "source": [
    "Step 5: Summary and Conclusion (5%)"
   ],
   "metadata": {
    "collapsed": false
   }
  },
  {
   "cell_type": "markdown",
   "source": [
    "Write summary/conc in here"
   ],
   "metadata": {
    "collapsed": false
   }
  }
 ],
 "metadata": {
  "kernelspec": {
   "display_name": "Python 3 (ipykernel)",
   "language": "python",
   "name": "python3"
  },
  "language_info": {
   "codemirror_mode": {
    "name": "ipython",
    "version": 3
   },
   "file_extension": ".py",
   "mimetype": "text/x-python",
   "name": "python",
   "nbconvert_exporter": "python",
   "pygments_lexer": "ipython3",
   "version": "3.9.12"
  }
 },
 "nbformat": 4,
 "nbformat_minor": 4
}
